{
 "cells": [
  {
   "cell_type": "markdown",
   "id": "51309a08",
   "metadata": {},
   "source": [
    "# Detecting signs of depression in Social Media"
   ]
  },
  {
   "cell_type": "markdown",
   "id": "b60b8351",
   "metadata": {},
   "source": [
    "## About data set and depression\n",
    "\n",
    "This project is based on data set created by: \n",
    "S Kayalvizhi and D Thenmozhi in 2022. Paper: \"Data set creation and empirical analysis for detecting signs of depression from social media postings.\"\n",
    "The data set was collected from Reddit archives of subreddits groups like: Mental Health, depression, loneliness, stress, anxiety. Data were pre-processed by removing the non-ASCII characters and emoticons to get a clean data set.  The collected postings data were annotated by two domain experts into three labels: “Not depressed, Moderate and Severe\".\n",
    "\n",
    "“Not Depressed\" was annotated when data reflect one of the following mannerism:\n",
    "- If the statements have only one or two lines about irrelevant topics. \n",
    "- If the statements reflect momentary feelings of present situation.\n",
    "- If the statements are about asking questions about any or medication \n",
    "- If the statement is about ask/seek help for friend’s difficulties.\n",
    "\n",
    "“Moderately depressed\" was annotated when data falls under these conditions:\n",
    "- If the statements reflect change in feelings (feeling low for some time and feeling better for some time). \n",
    "- If the statement shows that they aren’t feeling completely immersed in any situations\n",
    "- If the statements show that they have hope for life.\n",
    "\n",
    "“Severely depressed\" was annotated when data have one of the following scenarios:\n",
    "- If the statements express more than one disorder conditions. \n",
    "- If the statements explain about history of suicide attempts.\n",
    "\n",
    "Because depression can be diagnosed only by clinician expert using questionnaries, clinical interwiev, observation and other technics, this annotation as depressed and moderately depressed cannot be treated as a diagnosis. It is just assumed that the user has signs of depression based on his/her declaration. \n",
    "\n",
    "**So what added value could be for such project?**\n",
    "In my opinion value could be significant:\n",
    "Machine learning model could very fast detect signs which look like depression and could target such user with some information: for example, sending them information about local clinicians, about free help, invite to neerest places for diagnosis, propose conversation with dedicated chatbot or specialist. \n",
    "Depression is higly correlated with suicidality and this may be a far-reaching assumption, but it could save someone's life."
   ]
  },
  {
   "cell_type": "markdown",
   "id": "cf490469",
   "metadata": {},
   "source": [
    "Let's start by importing all needed libraries."
   ]
  },
  {
   "cell_type": "code",
   "execution_count": 1,
   "id": "802775f5",
   "metadata": {
    "scrolled": true
   },
   "outputs": [],
   "source": [
    "import pandas as pd\n",
    "import numpy as np\n",
    "import seaborn as sns\n",
    "import matplotlib.pyplot as plt\n",
    "from wordcloud import WordCloud\n",
    "from collections import Counter\n",
    "\n",
    "from sklearn.model_selection import train_test_split, GridSearchCV\n",
    "from sklearn.feature_extraction.text import CountVectorizer, TfidfVectorizer\n",
    "from sklearn.pipeline import make_pipeline, Pipeline\n",
    "\n",
    "import nltk\n",
    "from nltk.tokenize import word_tokenize\n",
    "from nltk.tokenize.casual import casual_tokenize\n",
    "from nltk.stem import WordNetLemmatizer, PorterStemmer\n",
    "from nltk.corpus import stopwords\n",
    "\n",
    "from sklearn.linear_model import LogisticRegression\n",
    "from sklearn.tree import DecisionTreeClassifier\n",
    "from sklearn.naive_bayes import MultinomialNB\n",
    "from sklearn.svm import SVC\n",
    "from sklearn.neighbors import KNeighborsClassifier\n",
    "from xgboost.sklearn import XGBClassifier\n",
    "from sklearn.ensemble import RandomForestClassifier\n",
    "\n",
    "from sklearn.metrics import precision_score, recall_score, f1_score, classification_report\n",
    "\n",
    "# nltk.download('stopwords')\n",
    "# nltk.download('wordnet')\n",
    "# nltk.download('omw-1.4')"
   ]
  },
  {
   "cell_type": "markdown",
   "id": "ad0b0950",
   "metadata": {},
   "source": [
    "# Data preparation"
   ]
  },
  {
   "cell_type": "markdown",
   "id": "009dbb82",
   "metadata": {},
   "source": [
    "The data set was stored in 3 files: train, dev and test. Test data did not have labels (because it was competition data to see competitors' scores) so train and dev were concatenated to have one data set.\n",
    "Let's see the data."
   ]
  },
  {
   "cell_type": "code",
   "execution_count": 2,
   "id": "8ead1ca9",
   "metadata": {},
   "outputs": [],
   "source": [
    "df1 = pd.read_csv('train.tsv', sep='\\t')\n",
    "df2 = pd.read_csv('dev.tsv', sep='\\t') "
   ]
  },
  {
   "cell_type": "code",
   "execution_count": 3,
   "id": "73d73024",
   "metadata": {},
   "outputs": [
    {
     "data": {
      "text/html": [
       "<div>\n",
       "<style scoped>\n",
       "    .dataframe tbody tr th:only-of-type {\n",
       "        vertical-align: middle;\n",
       "    }\n",
       "\n",
       "    .dataframe tbody tr th {\n",
       "        vertical-align: top;\n",
       "    }\n",
       "\n",
       "    .dataframe thead th {\n",
       "        text-align: right;\n",
       "    }\n",
       "</style>\n",
       "<table border=\"1\" class=\"dataframe\">\n",
       "  <thead>\n",
       "    <tr style=\"text-align: right;\">\n",
       "      <th></th>\n",
       "      <th>PID</th>\n",
       "      <th>Text_data</th>\n",
       "      <th>Label</th>\n",
       "    </tr>\n",
       "  </thead>\n",
       "  <tbody>\n",
       "    <tr>\n",
       "      <th>0</th>\n",
       "      <td>train_pid_1</td>\n",
       "      <td>Waiting for my mind to have a breakdown once t...</td>\n",
       "      <td>moderate</td>\n",
       "    </tr>\n",
       "    <tr>\n",
       "      <th>1</th>\n",
       "      <td>train_pid_2</td>\n",
       "      <td>My new years resolution : I'm gonna get my ass...</td>\n",
       "      <td>moderate</td>\n",
       "    </tr>\n",
       "    <tr>\n",
       "      <th>2</th>\n",
       "      <td>train_pid_3</td>\n",
       "      <td>New year : Somone else Feeling like 2020 will ...</td>\n",
       "      <td>moderate</td>\n",
       "    </tr>\n",
       "    <tr>\n",
       "      <th>3</th>\n",
       "      <td>train_pid_4</td>\n",
       "      <td>My story I guess : Hi, Im from Germany and my ...</td>\n",
       "      <td>moderate</td>\n",
       "    </tr>\n",
       "    <tr>\n",
       "      <th>4</th>\n",
       "      <td>train_pid_5</td>\n",
       "      <td>Sat in the dark and cried myself going into th...</td>\n",
       "      <td>moderate</td>\n",
       "    </tr>\n",
       "  </tbody>\n",
       "</table>\n",
       "</div>"
      ],
      "text/plain": [
       "           PID                                          Text_data     Label\n",
       "0  train_pid_1  Waiting for my mind to have a breakdown once t...  moderate\n",
       "1  train_pid_2  My new years resolution : I'm gonna get my ass...  moderate\n",
       "2  train_pid_3  New year : Somone else Feeling like 2020 will ...  moderate\n",
       "3  train_pid_4  My story I guess : Hi, Im from Germany and my ...  moderate\n",
       "4  train_pid_5  Sat in the dark and cried myself going into th...  moderate"
      ]
     },
     "execution_count": 3,
     "metadata": {},
     "output_type": "execute_result"
    }
   ],
   "source": [
    "df1.head()"
   ]
  },
  {
   "cell_type": "code",
   "execution_count": 4,
   "id": "80f7f9ae",
   "metadata": {
    "scrolled": true
   },
   "outputs": [
    {
     "data": {
      "text/html": [
       "<div>\n",
       "<style scoped>\n",
       "    .dataframe tbody tr th:only-of-type {\n",
       "        vertical-align: middle;\n",
       "    }\n",
       "\n",
       "    .dataframe tbody tr th {\n",
       "        vertical-align: top;\n",
       "    }\n",
       "\n",
       "    .dataframe thead th {\n",
       "        text-align: right;\n",
       "    }\n",
       "</style>\n",
       "<table border=\"1\" class=\"dataframe\">\n",
       "  <thead>\n",
       "    <tr style=\"text-align: right;\">\n",
       "      <th></th>\n",
       "      <th>PID</th>\n",
       "      <th>Text data</th>\n",
       "      <th>Label</th>\n",
       "    </tr>\n",
       "  </thead>\n",
       "  <tbody>\n",
       "    <tr>\n",
       "      <th>0</th>\n",
       "      <td>dev_pid_1</td>\n",
       "      <td>I enjoyed today, and I still am! Tomorrows dep...</td>\n",
       "      <td>moderate</td>\n",
       "    </tr>\n",
       "    <tr>\n",
       "      <th>1</th>\n",
       "      <td>dev_pid_2</td>\n",
       "      <td>I sorta tried to kill myself : I had a total b...</td>\n",
       "      <td>moderate</td>\n",
       "    </tr>\n",
       "    <tr>\n",
       "      <th>2</th>\n",
       "      <td>dev_pid_3</td>\n",
       "      <td>Best suicide method? : I like it quick and eas...</td>\n",
       "      <td>moderate</td>\n",
       "    </tr>\n",
       "    <tr>\n",
       "      <th>3</th>\n",
       "      <td>dev_pid_4</td>\n",
       "      <td>a story : I remember the time I'd get on my 3D...</td>\n",
       "      <td>moderate</td>\n",
       "    </tr>\n",
       "    <tr>\n",
       "      <th>4</th>\n",
       "      <td>dev_pid_5</td>\n",
       "      <td>The world only cares about beautiful people : ...</td>\n",
       "      <td>moderate</td>\n",
       "    </tr>\n",
       "  </tbody>\n",
       "</table>\n",
       "</div>"
      ],
      "text/plain": [
       "         PID                                          Text data     Label\n",
       "0  dev_pid_1  I enjoyed today, and I still am! Tomorrows dep...  moderate\n",
       "1  dev_pid_2  I sorta tried to kill myself : I had a total b...  moderate\n",
       "2  dev_pid_3  Best suicide method? : I like it quick and eas...  moderate\n",
       "3  dev_pid_4  a story : I remember the time I'd get on my 3D...  moderate\n",
       "4  dev_pid_5  The world only cares about beautiful people : ...  moderate"
      ]
     },
     "execution_count": 4,
     "metadata": {},
     "output_type": "execute_result"
    }
   ],
   "source": [
    "df2.head()"
   ]
  },
  {
   "cell_type": "markdown",
   "id": "c4ef1717",
   "metadata": {},
   "source": [
    "We have different labels name and column \"PID\" is not necessary."
   ]
  },
  {
   "cell_type": "code",
   "execution_count": 5,
   "id": "15296421",
   "metadata": {},
   "outputs": [
    {
     "data": {
      "text/html": [
       "<div>\n",
       "<style scoped>\n",
       "    .dataframe tbody tr th:only-of-type {\n",
       "        vertical-align: middle;\n",
       "    }\n",
       "\n",
       "    .dataframe tbody tr th {\n",
       "        vertical-align: top;\n",
       "    }\n",
       "\n",
       "    .dataframe thead th {\n",
       "        text-align: right;\n",
       "    }\n",
       "</style>\n",
       "<table border=\"1\" class=\"dataframe\">\n",
       "  <thead>\n",
       "    <tr style=\"text-align: right;\">\n",
       "      <th></th>\n",
       "      <th>Text_data</th>\n",
       "      <th>Label</th>\n",
       "    </tr>\n",
       "  </thead>\n",
       "  <tbody>\n",
       "    <tr>\n",
       "      <th>0</th>\n",
       "      <td>Waiting for my mind to have a breakdown once t...</td>\n",
       "      <td>moderate</td>\n",
       "    </tr>\n",
       "    <tr>\n",
       "      <th>1</th>\n",
       "      <td>My new years resolution : I'm gonna get my ass...</td>\n",
       "      <td>moderate</td>\n",
       "    </tr>\n",
       "    <tr>\n",
       "      <th>2</th>\n",
       "      <td>New year : Somone else Feeling like 2020 will ...</td>\n",
       "      <td>moderate</td>\n",
       "    </tr>\n",
       "    <tr>\n",
       "      <th>3</th>\n",
       "      <td>My story I guess : Hi, Im from Germany and my ...</td>\n",
       "      <td>moderate</td>\n",
       "    </tr>\n",
       "    <tr>\n",
       "      <th>4</th>\n",
       "      <td>Sat in the dark and cried myself going into th...</td>\n",
       "      <td>moderate</td>\n",
       "    </tr>\n",
       "  </tbody>\n",
       "</table>\n",
       "</div>"
      ],
      "text/plain": [
       "                                           Text_data     Label\n",
       "0  Waiting for my mind to have a breakdown once t...  moderate\n",
       "1  My new years resolution : I'm gonna get my ass...  moderate\n",
       "2  New year : Somone else Feeling like 2020 will ...  moderate\n",
       "3  My story I guess : Hi, Im from Germany and my ...  moderate\n",
       "4  Sat in the dark and cried myself going into th...  moderate"
      ]
     },
     "execution_count": 5,
     "metadata": {},
     "output_type": "execute_result"
    }
   ],
   "source": [
    "df2.rename({'Text data': 'Text_data'}, inplace=True, axis='columns')\n",
    "df = pd.concat([df1, df2], ignore_index=True)\n",
    "df.drop([\"PID\"], axis=1, inplace=True)\n",
    "df.head()"
   ]
  },
  {
   "cell_type": "code",
   "execution_count": 6,
   "id": "b68b29bb",
   "metadata": {},
   "outputs": [
    {
     "data": {
      "text/plain": [
       "(13387, 2)"
      ]
     },
     "execution_count": 6,
     "metadata": {},
     "output_type": "execute_result"
    }
   ],
   "source": [
    "df.shape"
   ]
  },
  {
   "cell_type": "code",
   "execution_count": 7,
   "id": "4a117a9b",
   "metadata": {},
   "outputs": [
    {
     "name": "stdout",
     "output_type": "stream",
     "text": [
      "<class 'pandas.core.frame.DataFrame'>\n",
      "RangeIndex: 13387 entries, 0 to 13386\n",
      "Data columns (total 2 columns):\n",
      " #   Column     Non-Null Count  Dtype \n",
      "---  ------     --------------  ----- \n",
      " 0   Text_data  13387 non-null  object\n",
      " 1   Label      13387 non-null  object\n",
      "dtypes: object(2)\n",
      "memory usage: 209.3+ KB\n"
     ]
    }
   ],
   "source": [
    "df.info()"
   ]
  },
  {
   "cell_type": "markdown",
   "id": "7baf4b71",
   "metadata": {},
   "source": [
    "We can see we have 13387 rows and 2 columns. All data are in string format (object dtype). \n",
    "<br>Let's delete duplicates."
   ]
  },
  {
   "cell_type": "code",
   "execution_count": 8,
   "id": "98dd42ec",
   "metadata": {},
   "outputs": [],
   "source": [
    "df.drop_duplicates(inplace=True, ignore_index=True)"
   ]
  },
  {
   "cell_type": "code",
   "execution_count": 9,
   "id": "2d6a5ca2",
   "metadata": {},
   "outputs": [
    {
     "data": {
      "text/plain": [
       "(7115, 2)"
      ]
     },
     "execution_count": 9,
     "metadata": {},
     "output_type": "execute_result"
    }
   ],
   "source": [
    "df.shape"
   ]
  },
  {
   "cell_type": "markdown",
   "id": "3361de71",
   "metadata": {},
   "source": [
    "We have a lot of duplicates, almost half have been deleted."
   ]
  },
  {
   "cell_type": "markdown",
   "id": "5813853b",
   "metadata": {},
   "source": [
    "# Data exploration"
   ]
  },
  {
   "cell_type": "markdown",
   "id": "0f5e66f2",
   "metadata": {},
   "source": [
    "Let's see how target column is distributed in the data."
   ]
  },
  {
   "cell_type": "code",
   "execution_count": 10,
   "id": "599b64e6",
   "metadata": {},
   "outputs": [
    {
     "data": {
      "text/plain": [
       "moderate          3611\n",
       "not depression    2742\n",
       "severe             762\n",
       "Name: Label, dtype: int64"
      ]
     },
     "execution_count": 10,
     "metadata": {},
     "output_type": "execute_result"
    }
   ],
   "source": [
    "df['Label'].value_counts()"
   ]
  },
  {
   "cell_type": "code",
   "execution_count": 11,
   "id": "ce8fe806",
   "metadata": {},
   "outputs": [
    {
     "data": {
      "image/png": "[encoded data removed]",
      "text/plain": [
       "<Figure size 432x288 with 1 Axes>"
      ]
     },
     "metadata": {
      "needs_background": "light"
     },
     "output_type": "display_data"
    }
   ],
   "source": [
    "sns.barplot(x=df['Label'].value_counts().index, y=df['Label'].value_counts().values)\n",
    "plt.title(\"Target distribution in data\", fontsize=12)\n",
    "plt.show()"
   ]
  },
  {
   "cell_type": "markdown",
   "id": "29a9bd57",
   "metadata": {},
   "source": [
    "Most rows are labeled as moderate depression (3611), in second place we have rows without depresion (2746) and the fewest: severe depression (762).\n",
    "For this classification case we need to have labels 0, 1 and 2, because for some classifiers it is mandatory. To represent intensity of depression target will be changed as below:"
   ]
  },
  {
   "cell_type": "code",
   "execution_count": 12,
   "id": "5a29e60c",
   "metadata": {},
   "outputs": [],
   "source": [
    "df[\"Label\"].replace({\"not depression\": 0, \"moderate\": 1, \"severe\": 2}, inplace=True)"
   ]
  },
  {
   "cell_type": "markdown",
   "id": "fd7b829f",
   "metadata": {},
   "source": [
    "Let's check what words are mostly used for severe, moderate and not depressed users. Will choose casual tokenizer which is dedicated to social media. We will also add lemmatizer (it will find the base word, not removing/replacing word suffixes as in stemmer) and delete English stop words. "
   ]
  },
  {
   "cell_type": "code",
   "execution_count": 13,
   "id": "bc146b2e",
   "metadata": {},
   "outputs": [],
   "source": [
    "text_data_severe = df[df[\"Label\"]==2][\"Text_data\"]\n",
    "text_data_moderate = df[df[\"Label\"]==1][\"Text_data\"]\n",
    "text_data_not_depressed = df[df[\"Label\"]==0][\"Text_data\"]"
   ]
  },
  {
   "cell_type": "code",
   "execution_count": 14,
   "id": "9344137a",
   "metadata": {
    "scrolled": true
   },
   "outputs": [
    {
     "data": {
      "text/plain": [
       "599     Falling in love with depression and OCD. Anoth...\n",
       "608     I’m so empty : I wake up to the malevolent gla...\n",
       "609     I can't kill myself because of my parents : I ...\n",
       "616     Feeling numb. : Okay this is my first post, ap...\n",
       "639     I can't do this anymore. : I have several ment...\n",
       "                              ...                        \n",
       "7110    Aren’t we all just tired? : I’ve been depresse...\n",
       "7111    NEED HELP COPING : I had my life pretty much f...\n",
       "7112    Qutting Zoloft Cold Turkey : I was on 75 mg se...\n",
       "7113    Crying : I’m coming off my antidepressants and...\n",
       "7114    Seeking for advice on how to overcome and deal...\n",
       "Name: Text_data, Length: 762, dtype: object"
      ]
     },
     "execution_count": 14,
     "metadata": {},
     "output_type": "execute_result"
    }
   ],
   "source": [
    "text_data_severe"
   ]
  },
  {
   "cell_type": "code",
   "execution_count": 15,
   "id": "4e1cca56",
   "metadata": {
    "scrolled": true
   },
   "outputs": [
    {
     "data": {
      "text/plain": [
       "0       Waiting for my mind to have a breakdown once t...\n",
       "1       My new years resolution : I'm gonna get my ass...\n",
       "2       New year : Somone else Feeling like 2020 will ...\n",
       "3       My story I guess : Hi, Im from Germany and my ...\n",
       "4       Sat in the dark and cried myself going into th...\n",
       "                              ...                        \n",
       "4981    Lockdown has made so depressed : Help me, I fe...\n",
       "4982    Am i just being dramatic? Do i really feel thi...\n",
       "4983    Just another day of dealing with Depression. J...\n",
       "4984    I just want to vent a bit, nothing special ple...\n",
       "4985    Shit fucking day : Having the shittest day, do...\n",
       "Name: Text_data, Length: 3611, dtype: object"
      ]
     },
     "execution_count": 15,
     "metadata": {},
     "output_type": "execute_result"
    }
   ],
   "source": [
    "text_data_moderate"
   ]
  },
  {
   "cell_type": "code",
   "execution_count": 16,
   "id": "8da84c2c",
   "metadata": {},
   "outputs": [
    {
     "data": {
      "text/plain": [
       "597     i lost my virginity and 5 mins later my gf sai...\n",
       "600     This is a question that gives me SO MUCH anxie...\n",
       "601     Insecurities, fuck em. : I constantly feel lik...\n",
       "602     i came here in reddit to be entertained. now i...\n",
       "603     Empty : I wanted to have friends. People to sh...\n",
       "                              ...                        \n",
       "6770    I never feel like I'm enough and I can't get m...\n",
       "6771    Just want to talk to someone real : I find mys...\n",
       "6772    on the verge of tears but no real reason to cr...\n",
       "6773    admitting to myself to the hospital tomorrow :...\n",
       "6774    Does anyone else hate it when people say \"You ...\n",
       "Name: Text_data, Length: 2742, dtype: object"
      ]
     },
     "execution_count": 16,
     "metadata": {},
     "output_type": "execute_result"
    }
   ],
   "source": [
    "text_data_not_depressed"
   ]
  },
  {
   "cell_type": "markdown",
   "id": "b8a5d896",
   "metadata": {},
   "source": [
    "Let's prepare function for finding most common words from all type users."
   ]
  },
  {
   "cell_type": "code",
   "execution_count": 19,
   "id": "75959a52",
   "metadata": {},
   "outputs": [],
   "source": [
    "stop_words = stopwords.words('english') \n",
    "wl = WordNetLemmatizer()\n",
    "\n",
    "def count_words(data):\n",
    "    '''\n",
    "    Return counted words from data using stop words, casual tokenizer and lematizer\n",
    "    \n",
    "    :param data: DataFrame with data\n",
    "    \n",
    "    :return: list with counted words\n",
    "    '''\n",
    "    \n",
    "    casual_tekenizer_lists = [casual_tokenize(post) for post in data]\n",
    "    casual_tekenizer = list(np.concatenate(casual_tekenizer_lists).flat)\n",
    "    without_stop_words = [word for word in casual_tekenizer if word.lower() not in stop_words and word.isalpha()]\n",
    "    after_lem = [wl.lemmatize(word) for word in without_stop_words]\n",
    "    \n",
    "    return Counter(after_lem)"
   ]
  },
  {
   "cell_type": "markdown",
   "id": "72d761f2",
   "metadata": {},
   "source": [
    "Let's check what are most common 20 words in the group with severe, moderate and without depression."
   ]
  },
  {
   "cell_type": "code",
   "execution_count": 20,
   "id": "fa8f3f6d",
   "metadata": {},
   "outputs": [
    {
     "name": "stdout",
     "output_type": "stream",
     "text": [
      "[('like', 1213), ('feel', 1200), ('want', 1073), ('get', 832), ('know', 820), ('time', 736), ('life', 704), ('year', 699), ('depression', 682), ('day', 622), ('even', 565), ('really', 555), ('thing', 526), ('friend', 518), ('go', 512), ('people', 503), ('would', 474), ('help', 443), ('one', 440), ('die', 433)]\n"
     ]
    }
   ],
   "source": [
    "count_severe_words = count_words(text_data_severe)\n",
    "top20_severe_words = count_severe_words.most_common(20)\n",
    "print(top20_severe_words)"
   ]
  },
  {
   "cell_type": "code",
   "execution_count": 21,
   "id": "d1f3cd9a",
   "metadata": {
    "scrolled": true
   },
   "outputs": [
    {
     "name": "stdout",
     "output_type": "stream",
     "text": [
      "[('like', 4745), ('feel', 4719), ('know', 3190), ('want', 3122), ('life', 2802), ('get', 2794), ('time', 2695), ('friend', 2227), ('even', 2200), ('year', 2160), ('thing', 2029), ('really', 2017), ('people', 2009), ('day', 1845), ('one', 1837), ('go', 1682), ('would', 1608), ('make', 1555), ('depression', 1516), ('think', 1492)]\n"
     ]
    }
   ],
   "source": [
    "count_moderate_words = count_words(text_data_moderate)\n",
    "top20_moderate_words = count_moderate_words.most_common(20)\n",
    "print(top20_moderate_words)"
   ]
  },
  {
   "cell_type": "code",
   "execution_count": 22,
   "id": "157fb231",
   "metadata": {},
   "outputs": [
    {
     "name": "stdout",
     "output_type": "stream",
     "text": [
      "[('like', 2141), ('feel', 2007), ('know', 1504), ('want', 1342), ('get', 1244), ('life', 1215), ('time', 1167), ('friend', 1066), ('people', 1057), ('really', 942), ('thing', 939), ('one', 937), ('even', 933), ('year', 891), ('day', 889), ('make', 778), ('go', 721), ('would', 711), ('think', 708), ('going', 680)]\n"
     ]
    }
   ],
   "source": [
    "count_not_depressed_words = count_words(text_data_not_depressed)\n",
    "top20_not_depressed_words = count_not_depressed_words.most_common(20)\n",
    "print(top20_not_depressed_words)"
   ]
  },
  {
   "cell_type": "markdown",
   "id": "90354d41",
   "metadata": {},
   "source": [
    "We can see that many words are the same in all groups: like, feel, know, want etc. We would like to see what words are specific for each group. But before we do this, let's visiualise how 20 most common words are distributed on one group. For example for severly depressed."
   ]
  },
  {
   "cell_type": "code",
   "execution_count": 23,
   "id": "a8ca9a17",
   "metadata": {},
   "outputs": [
    {
     "data": {
      "image/png": "[encoded data removed]",
      "text/plain": [
       "<Figure size 1080x576 with 1 Axes>"
      ]
     },
     "metadata": {
      "needs_background": "light"
     },
     "output_type": "display_data"
    }
   ],
   "source": [
    "x_list_s20 = [x[0] for x in top20_severe_words]\n",
    "y_list_s20 = [x[1] for x in top20_severe_words]\n",
    "\n",
    "plt.figure(figsize=(15, 8))\n",
    "plt.title(\"Top 20 words for severe depression\", fontsize=15)\n",
    "plt.xlabel(\"Word\", fontsize=13)\n",
    "plt.ylabel(\"Total amount in all posts\", fontsize=13)\n",
    "plt.bar(x=x_list_s20, height=y_list_s20)\n",
    "plt.show()"
   ]
  },
  {
   "cell_type": "code",
   "execution_count": 24,
   "id": "75ca145c",
   "metadata": {},
   "outputs": [
    {
     "data": {
      "image/png": "[encoded data removed]",
      "text/plain": [
       "<Figure size 720x576 with 1 Axes>"
      ]
     },
     "metadata": {
      "needs_background": "light"
     },
     "output_type": "display_data"
    }
   ],
   "source": [
    "wc = WordCloud()\n",
    "wc.generate_from_frequencies(count_severe_words)\n",
    "plt.figure(figsize=(10, 8))\n",
    "plt.title(\"Top words in severe group\", fontsize=12)\n",
    "plt.imshow(wc)\n",
    "plt.axis('off')\n",
    "plt.show()"
   ]
  },
  {
   "cell_type": "markdown",
   "id": "5b80a843",
   "metadata": {},
   "source": [
    "We can see that three most popular words are: like, feel and want.\n",
    "<br>Now, let's check what words are used in all groups simultaneously and what only in one of them (limited to 50 common words)."
   ]
  },
  {
   "cell_type": "code",
   "execution_count": 25,
   "id": "0e5935d1",
   "metadata": {},
   "outputs": [],
   "source": [
    "top50_severe_words = count_severe_words.most_common(50)\n",
    "top50_moderate_words = count_moderate_words.most_common(50)\n",
    "top50_not_depressed_words = count_not_depressed_words.most_common(50)\n",
    "\n",
    "x_list_s50 = [x[0] for x in top50_severe_words]\n",
    "x_list_m50 = [x[0] for x in top50_moderate_words]\n",
    "x_list_n50 = [x[0] for x in top50_not_depressed_words]"
   ]
  },
  {
   "cell_type": "code",
   "execution_count": 26,
   "id": "c7374395",
   "metadata": {},
   "outputs": [
    {
     "name": "stdout",
     "output_type": "stream",
     "text": [
      "List of words which are present in all groups (limited to top 50 words):\n",
      "['like', 'feel', 'want', 'get', 'know', 'time', 'life', 'year', 'depression', 'day', 'even', 'really', 'thing', 'friend', 'go', 'people', 'would', 'help', 'one', 'think', 'going', 'make', 'much', 'thought', 'better', 'never', 'work', 'feeling', 'back', 'got', 'still', 'anything', 'school', 'way', 'anymore', 'could', 'something', 'good', 'always', 'everything']\n"
     ]
    }
   ],
   "source": [
    "words_in_all_groups = [x for x in x_list_s50 if x in x_list_m50 and x in x_list_n50]\n",
    "print(f\"List of words which are present in all groups (limited to top 50 words):\\n{words_in_all_groups}\")"
   ]
  },
  {
   "cell_type": "code",
   "execution_count": 27,
   "id": "8ed2146b",
   "metadata": {},
   "outputs": [
    {
     "name": "stdout",
     "output_type": "stream",
     "text": [
      "List of words which are present only in severe group (limited to top 50 words):\n",
      "['die', 'anxiety', 'month', 'since', 'bad', 'started', 'week', 'take']\n"
     ]
    }
   ],
   "source": [
    "words_only_in_severe50 = [x for x in x_list_s50 if x not in x_list_m50 and x not in x_list_n50]\n",
    "print(f\"List of words which are present only in severe group (limited to top 50 words):\\n{words_only_in_severe50}\")"
   ]
  },
  {
   "cell_type": "code",
   "execution_count": 28,
   "id": "b8182940",
   "metadata": {},
   "outputs": [
    {
     "name": "stdout",
     "output_type": "stream",
     "text": [
      "List of words which are present only in moderate group (limited to top 50 words):\n",
      "['hate', 'nothing', 'family', 'happy', 'fucking']\n"
     ]
    }
   ],
   "source": [
    "words_only_in_moderate50 = [x for x in x_list_m50 if x not in x_list_s50 and x not in x_list_n50]\n",
    "print(f\"List of words which are present only in moderate group (limited to top 50 words):\\n{words_only_in_moderate50}\")"
   ]
  },
  {
   "cell_type": "markdown",
   "id": "40032d6a",
   "metadata": {},
   "source": [
    "When we limited to 50 most common words it looks very interesting: only people with severe depression use words \"die\", \"anxiety\" etc. and with moderate depression: 'hate', 'nothing' etc. Let's see how it will change when we expand it to 100 common words."
   ]
  },
  {
   "cell_type": "code",
   "execution_count": 29,
   "id": "9eef75f2",
   "metadata": {},
   "outputs": [],
   "source": [
    "top100_severe_words = count_severe_words.most_common(100)\n",
    "top100_moderate_words = count_moderate_words.most_common(100)\n",
    "top100_not_depressed_words = count_not_depressed_words.most_common(100)\n",
    "\n",
    "x_list_s100 = [x[0] for x in top100_severe_words]\n",
    "x_list_m100 = [x[0] for x in top100_moderate_words]\n",
    "x_list_n100 = [x[0] for x in top100_not_depressed_words]"
   ]
  },
  {
   "cell_type": "code",
   "execution_count": 30,
   "id": "b5da5511",
   "metadata": {},
   "outputs": [
    {
     "name": "stdout",
     "output_type": "stream",
     "text": [
      "List of words which are present only in severe group (limited to top 100 words):\n",
      "['anxiety', 'medication', 'wanted', 'ago', 'therapy', 'past', 'stop', 'problem', 'went', 'mental', 'two']\n"
     ]
    }
   ],
   "source": [
    "words_only_in_severe100 = [x for x in x_list_s100 if x not in x_list_m100 and x not in x_list_n100]\n",
    "print(f\"List of words which are present only in severe group (limited to top 100 words):\\n{words_only_in_severe100}\")"
   ]
  },
  {
   "cell_type": "code",
   "execution_count": 31,
   "id": "72f4af77",
   "metadata": {},
   "outputs": [
    {
     "name": "stdout",
     "output_type": "stream",
     "text": [
      "List of words which are present only in moderate group (limited to top 100 words):\n",
      "['im', 'tired']\n"
     ]
    }
   ],
   "source": [
    "words_only_in_moderate100 = [x for x in x_list_m100 if x not in x_list_s100 and x not in x_list_n100]\n",
    "print(f\"List of words which are present only in moderate group (limited to top 100 words):\\n{words_only_in_moderate100}\")"
   ]
  },
  {
   "cell_type": "markdown",
   "id": "757a7012",
   "metadata": {},
   "source": [
    "This is even more interesting. When we limit to 100 most common words, it looks like people only with severe depression are writing about snxiety, medication, therapy etc. For moderate only: i'm, tired."
   ]
  },
  {
   "cell_type": "markdown",
   "id": "1c7ca335",
   "metadata": {},
   "source": [
    "# Baseline"
   ]
  },
  {
   "cell_type": "markdown",
   "id": "9a722552",
   "metadata": {},
   "source": [
    "Now, we will try to find the best baseline for upcoming modeling. At first, let's split data to train and test"
   ]
  },
  {
   "cell_type": "code",
   "execution_count": 32,
   "id": "3ac5a91e",
   "metadata": {},
   "outputs": [],
   "source": [
    "X = df['Text_data']\n",
    "y = df['Label']\n",
    "X_train, X_test, y_train, y_test = train_test_split(X, y, test_size=0.3, random_state=123, stratify = y)"
   ]
  },
  {
   "cell_type": "markdown",
   "id": "bf8aee57",
   "metadata": {},
   "source": [
    "### CountVectorizer vs TFIDFVectorizer"
   ]
  },
  {
   "cell_type": "markdown",
   "id": "dde7dbfa",
   "metadata": {},
   "source": [
    "Now we will find the best Vectorizer. Let's see how f1 scores (macro and weighted) look like for different vectorizers with different classification models.\n",
    "<br>At first we prepared functions for calculations."
   ]
  },
  {
   "cell_type": "code",
   "execution_count": 33,
   "id": "30955860",
   "metadata": {
    "scrolled": true
   },
   "outputs": [],
   "source": [
    "def f1_macro_avg(pipe, X, y):\n",
    "    '''\n",
    "    Calculate macro-averaged F1 score\n",
    "    \n",
    "    :param pipe: pipeline with classification model\n",
    "    :param X: data without label column\n",
    "    :param y: only label column for data\n",
    "    \n",
    "    :return: macro-averaged F1 score\n",
    "    '''\n",
    "        \n",
    "    y_pred = pipe.predict(X)\n",
    "    \n",
    "    return f1_score(y_true=y, y_pred=y_pred, average='macro')  \n",
    "\n",
    "\n",
    "def f1_weighted_avg(pipe, X, y):\n",
    "    '''\n",
    "    Calculate weighted-averaged F1 score\n",
    "    \n",
    "    :param pipe: pipeline with classification model\n",
    "    :param X: data without label column\n",
    "    :param y: only label column for data\n",
    "    \n",
    "    :return: weighted-averaged F1 score\n",
    "    '''\n",
    "        \n",
    "    y_pred = pipe.predict(X)\n",
    "    \n",
    "    return f1_score(y_true=y, y_pred=y_pred, average='weighted')\n",
    "\n",
    "\n",
    "def get_performance(pipe, X, y):\n",
    "    '''\n",
    "    Show string information about both macro and weighted F1 scores for one model.\n",
    "    \n",
    "    :param pipe: pipeline with classification model\n",
    "    :param X: data without label column\n",
    "    :param y: only label column for data\n",
    "    \n",
    "    :return: string with scores\n",
    "    '''\n",
    "    \n",
    "    return f\"F1 macro avg: {f1_macro_avg(pipe, X, y): .2f}, F1 weighted avg: {f1_weighted_avg(pipe, X, y): .2f} \"\n",
    "\n",
    "\n",
    "def basic_performance(vectorizer, clf_names, clf_models):\n",
    "    '''\n",
    "    Create dictionary with F1 scores for defined models\n",
    "    \n",
    "    :param vectorizer: vectorizer\n",
    "    :param names: list of models names\n",
    "    :param models: list of classification models\n",
    "    \n",
    "    :return: dictionary with scores from many models\n",
    "    '''\n",
    "\n",
    "    basic_performance = {}\n",
    "\n",
    "    for model, name in zip(clf_models, clf_names):\n",
    "        pipe = Pipeline([\n",
    "        ('vct', vectorizer),\n",
    "        (name ,model)\n",
    "        ])\n",
    "        pipe.fit(X_train, y_train)\n",
    "        performance = get_performance(pipe, X_test, y_test)\n",
    "        basic_performance[name] = performance\n",
    "    \n",
    "    return basic_performance"
   ]
  },
  {
   "cell_type": "markdown",
   "id": "774fed4a",
   "metadata": {},
   "source": [
    "Prepare models:"
   ]
  },
  {
   "cell_type": "code",
   "execution_count": 35,
   "id": "d1825c7e",
   "metadata": {},
   "outputs": [],
   "source": [
    "names = ['LogRegr', 'SupVecM', 'MulNomB', 'DecTree', 'RandFor', 'XGBoost']\n",
    "\n",
    "models = [LogisticRegression(max_iter=10000),\n",
    "              SVC(),\n",
    "              MultinomialNB(),\n",
    "              DecisionTreeClassifier(),\n",
    "              RandomForestClassifier(),\n",
    "              XGBClassifier()]"
   ]
  },
  {
   "cell_type": "markdown",
   "id": "51d13419",
   "metadata": {},
   "source": [
    "And check scores for CountVectorizer and TfidfVectorizer"
   ]
  },
  {
   "cell_type": "code",
   "execution_count": 36,
   "id": "056a41ae",
   "metadata": {},
   "outputs": [],
   "source": [
    "basic_perf_countvectorizer = basic_performance(vectorizer=CountVectorizer(), clf_names=names, clf_models=models)"
   ]
  },
  {
   "cell_type": "code",
   "execution_count": 35,
   "id": "8de4e404",
   "metadata": {},
   "outputs": [
    {
     "data": {
      "text/plain": [
       "{'LogRegr': 'F1 macro avg:  0.50, F1 weighted avg:  0.55 ',\n",
       " 'SupVecM': 'F1 macro avg:  0.42, F1 weighted avg:  0.56 ',\n",
       " 'MulNomB': 'F1 macro avg:  0.49, F1 weighted avg:  0.56 ',\n",
       " 'DecTree': 'F1 macro avg:  0.42, F1 weighted avg:  0.50 ',\n",
       " 'RandFor': 'F1 macro avg:  0.41, F1 weighted avg:  0.55 ',\n",
       " 'XGBoost': 'F1 macro avg:  0.49, F1 weighted avg:  0.58 '}"
      ]
     },
     "execution_count": 35,
     "metadata": {},
     "output_type": "execute_result"
    }
   ],
   "source": [
    "basic_perf_countvectorizer"
   ]
  },
  {
   "cell_type": "code",
   "execution_count": 39,
   "id": "8fe78f6e",
   "metadata": {},
   "outputs": [],
   "source": [
    "basic_perf_tfidfvectorizer = basic_performance(vectorizer=TfidfVectorizer(), clf_names=names, clf_models=models)"
   ]
  },
  {
   "cell_type": "code",
   "execution_count": 40,
   "id": "2828b55a",
   "metadata": {},
   "outputs": [
    {
     "data": {
      "text/plain": [
       "{'LogRegr': 'F1 macro avg:  0.51, F1 weighted avg:  0.59 ',\n",
       " 'SupVecM': 'F1 macro avg:  0.48, F1 weighted avg:  0.59 ',\n",
       " 'MulNomB': 'F1 macro avg:  0.27, F1 weighted avg:  0.40 ',\n",
       " 'DecTree': 'F1 macro avg:  0.42, F1 weighted avg:  0.49 ',\n",
       " 'RandFor': 'F1 macro avg:  0.41, F1 weighted avg:  0.56 ',\n",
       " 'XGBoost': 'F1 macro avg:  0.51, F1 weighted avg:  0.58 '}"
      ]
     },
     "execution_count": 40,
     "metadata": {},
     "output_type": "execute_result"
    }
   ],
   "source": [
    "basic_perf_tfidfvectorizer"
   ]
  },
  {
   "cell_type": "markdown",
   "id": "c9e2bc32",
   "metadata": {},
   "source": [
    "We can see that F1 scores for CountVectorizer are relatively constans in small range: \n",
    "<br>macro:&emsp;&emsp;0.41 - 0.50 \n",
    "<br>weighted: 0.50 - 0.58\n",
    "<br>\n",
    "<br>In TfidfVectorizer F1 is in wider range, but mostly higher than CountVectorizer:\n",
    "<br>macro:&emsp;&emsp;0.27 - 0.51\n",
    "<br>weighted: 0.40 - 0.59\n",
    "<br>\n",
    "<br> Only MultiNomialNB has better results in CountVectorizer than TfidfVectorizer, so for further modeling we will choose TFIDFvectorizer.\n",
    "<br>Now let's try to find what is better for TfidfVectorizer performance: Stemmer or Lemmatizer."
   ]
  },
  {
   "cell_type": "markdown",
   "id": "b2f629b2",
   "metadata": {},
   "source": [
    "### Stemming and Lematization"
   ]
  },
  {
   "cell_type": "markdown",
   "id": "6869739c",
   "metadata": {},
   "source": [
    "For both normalizing methods we will delete stop words and prepared needed classes and function."
   ]
  },
  {
   "cell_type": "code",
   "execution_count": 41,
   "id": "da1a2647",
   "metadata": {},
   "outputs": [],
   "source": [
    "stop_w = set(stopwords.words('english'))\n",
    "\n",
    "class LemTokenizer:\n",
    "    '''\n",
    "    Class for Lemmatizer\n",
    "    \n",
    "    :return: doc after lemmatization without stop words and non alfanum\n",
    "    '''\n",
    "    \n",
    "    def __init__(self):\n",
    "        \n",
    "        self.wnl = WordNetLemmatizer()\n",
    "        \n",
    "    def __call__(self, doc):\n",
    "        \n",
    "        return [self.wnl.lemmatize(w) for w in casual_tokenize(doc) if w not in stop_w and w.isalnum()]\n",
    "\n",
    "\n",
    "class StemTokenizer:\n",
    "    '''\n",
    "    Class for Stemmer  \n",
    "    \n",
    "    :return: doc after stemming without stop words and non alfanum\n",
    "    '''\n",
    "    \n",
    "    def __init__(self):\n",
    "        \n",
    "        self.ps = PorterStemmer()\n",
    "\n",
    "    def __call__(self, doc):\n",
    "        \n",
    "        return [self.ps.stem(w) for w in casual_tokenize(doc) if w not in stop_w and w.isalnum()]\n",
    "\n",
    "\n",
    "def performance_with_text_normalization(tokenizer_class, clf_names, clf_models):\n",
    "    '''\n",
    "    Create dictionary with F1 scores for defined models with TfidfVectorizer\n",
    "    and Lemmer/Stemmer tokenization classes.\n",
    "    \n",
    "    :param tokenizer: tokenizer class (LemTokenizer or StemTokenizer)\n",
    "    :param names: list of models names\n",
    "    :param models: list of classification models\n",
    "    \n",
    "    :return: dictionary with scores from many models\n",
    "    '''\n",
    "\n",
    "    basic_performance = {}\n",
    "\n",
    "    for model, name in zip(clf_models, clf_names):\n",
    "        pipe = Pipeline([\n",
    "        ('vct', TfidfVectorizer(tokenizer=tokenizer_class)),\n",
    "        (name ,model)\n",
    "        ])\n",
    "        pipe.fit(X_train, y_train)\n",
    "        performance = get_performance(pipe, X_test, y_test)\n",
    "        basic_performance[name] = performance\n",
    "    \n",
    "    return basic_performance"
   ]
  },
  {
   "cell_type": "markdown",
   "id": "a2e70b9e",
   "metadata": {},
   "source": [
    "And check scores for Lematization and Stemming"
   ]
  },
  {
   "cell_type": "code",
   "execution_count": 42,
   "id": "cb8ea254",
   "metadata": {
    "scrolled": true
   },
   "outputs": [],
   "source": [
    "basic_lema_perf = performance_with_text_normalization(tokenizer_class=LemTokenizer(), clf_names=names, clf_models=models)"
   ]
  },
  {
   "cell_type": "code",
   "execution_count": 43,
   "id": "fa1f28d6",
   "metadata": {},
   "outputs": [
    {
     "data": {
      "text/plain": [
       "{'LogRegr': 'F1 macro avg:  0.51, F1 weighted avg:  0.58 ',\n",
       " 'SupVecM': 'F1 macro avg:  0.48, F1 weighted avg:  0.58 ',\n",
       " 'MulNomB': 'F1 macro avg:  0.28, F1 weighted avg:  0.41 ',\n",
       " 'DecTree': 'F1 macro avg:  0.45, F1 weighted avg:  0.51 ',\n",
       " 'RandFor': 'F1 macro avg:  0.42, F1 weighted avg:  0.56 ',\n",
       " 'XGBoost': 'F1 macro avg:  0.51, F1 weighted avg:  0.57 '}"
      ]
     },
     "execution_count": 43,
     "metadata": {},
     "output_type": "execute_result"
    }
   ],
   "source": [
    "basic_lema_perf"
   ]
  },
  {
   "cell_type": "code",
   "execution_count": 44,
   "id": "99f91c40",
   "metadata": {
    "scrolled": true
   },
   "outputs": [],
   "source": [
    "basic_stem_perf = performance_with_text_normalization(tokenizer_class=StemTokenizer(), clf_names=names, clf_models=models)"
   ]
  },
  {
   "cell_type": "code",
   "execution_count": 45,
   "id": "23f3d471",
   "metadata": {},
   "outputs": [
    {
     "data": {
      "text/plain": [
       "{'LogRegr': 'F1 macro avg:  0.51, F1 weighted avg:  0.59 ',\n",
       " 'SupVecM': 'F1 macro avg:  0.49, F1 weighted avg:  0.58 ',\n",
       " 'MulNomB': 'F1 macro avg:  0.29, F1 weighted avg:  0.42 ',\n",
       " 'DecTree': 'F1 macro avg:  0.42, F1 weighted avg:  0.49 ',\n",
       " 'RandFor': 'F1 macro avg:  0.42, F1 weighted avg:  0.56 ',\n",
       " 'XGBoost': 'F1 macro avg:  0.52, F1 weighted avg:  0.59 '}"
      ]
     },
     "execution_count": 45,
     "metadata": {},
     "output_type": "execute_result"
    }
   ],
   "source": [
    "basic_stem_perf"
   ]
  },
  {
   "cell_type": "markdown",
   "id": "3962acea",
   "metadata": {},
   "source": [
    "We can see that there is no big differences between Stemmer and Lemmatizer, so we will choose Lemmatizer because stemmer is more agressiv. \n",
    "<br> We can also see that the best three classificators are: Logistic Regression, Support Vector Machines and XGBoost."
   ]
  },
  {
   "cell_type": "markdown",
   "id": "82bbf984",
   "metadata": {},
   "source": [
    "Summarizing, for baseline we will have TfidfVectorizer, lemmatization without english stop words and without non alpha-numeric characters."
   ]
  },
  {
   "cell_type": "markdown",
   "id": "11ffcb87",
   "metadata": {},
   "source": [
    "# MODELING"
   ]
  },
  {
   "cell_type": "markdown",
   "id": "8371413a",
   "metadata": {},
   "source": [
    "Now, we are going to  look for best scores of three models: Logistic Regression, Support Vector Machines and XGBoost. For every model we will have the same steps in the same order as listed below:\n",
    "- Create pipeline\n",
    "- Define grid parameters for hypertuning\n",
    "- Perform gridsearch and find best parameters\n",
    "- Check scores for: baseline model and model with best parameters\n",
    "\n",
    "Let's prepare functions for those steps:"
   ]
  },
  {
   "cell_type": "code",
   "execution_count": 46,
   "id": "1c3cd0e5",
   "metadata": {},
   "outputs": [],
   "source": [
    "def create_pipeline(model, name):\n",
    "    '''\n",
    "    Create pipeline for defined classifier\n",
    "    \n",
    "    :param model: classification model\n",
    "    :param name: name for classification model\n",
    "    \n",
    "    :return: pipeline object\n",
    "    '''\n",
    "\n",
    "    pipe = Pipeline([\n",
    "        ('tfidf', TfidfVectorizer(tokenizer=LemTokenizer())),\n",
    "        (name ,model)\n",
    "        ])\n",
    "    \n",
    "    return pipe\n",
    "\n",
    "\n",
    "def find_best_estimator(pipe, params, cv, X_train, y_train):\n",
    "    '''\n",
    "    Perform GridSearchCV to optimaze hyperparameters. Print best parameters and return model.\n",
    " \n",
    "    :param pipe: pipeline with classifier\n",
    "    :param params: parameters grid\n",
    "    :param cv: number of folds in cross validation      \n",
    "    :param X_train: traning data without label column\n",
    "    :param y_train: only label column for training data\n",
    "    \n",
    "    :return: classification model with best parameters\n",
    "    '''\n",
    "    \n",
    "    gs = GridSearchCV(estimator = pipe, \n",
    "                      param_grid = params, \n",
    "                      cv = cv, \n",
    "                      n_jobs = -1, # (-1 means using all processors, None default)\n",
    "                      verbose = 1,\n",
    "                      scoring= 'f1_macro')\n",
    "    gs.fit(X_train,y_train)\n",
    "    print('Best parameters found: ')\n",
    "    print(gs.best_params_)\n",
    "    \n",
    "    return gs.best_estimator_\n",
    "\n",
    "\n",
    "def show_best_model_score(model, X_test, y_test):\n",
    "    '''\n",
    "    Print classification report.\n",
    " \n",
    "    :param model: fitted model with best parameters   \n",
    "    :param X_test: test data without label column\n",
    "    :param y_test: only label column for test data\n",
    "\n",
    "    '''\n",
    "    \n",
    "    y_pred = model.predict(X_test)\n",
    "    \n",
    "    print(classification_report(y_test, y_pred))"
   ]
  },
  {
   "cell_type": "code",
   "execution_count": 74,
   "id": "d4345902",
   "metadata": {},
   "outputs": [],
   "source": [
    "# check vocabulary len\n",
    "# tfidf = TfidfVectorizer(tokenizer=LemTokenizer()).fit(X_train,y_train)\n",
    "# print(tfidf.vocabulary_.__len__()) "
   ]
  },
  {
   "cell_type": "markdown",
   "id": "4e54d135",
   "metadata": {},
   "source": [
    "### Logistic Regression"
   ]
  },
  {
   "cell_type": "code",
   "execution_count": 92,
   "id": "4d325a5d",
   "metadata": {},
   "outputs": [],
   "source": [
    "log_reg_pipeline = create_pipeline(LogisticRegression(max_iter=10000), 'log_reg')\n",
    "\n",
    "log_reg_param = {\n",
    " 'tfidf__max_features':[5000, 10000, None],         # default None , vocabulary len is 14k\n",
    " 'tfidf__ngram_range': [(1, 1), (1, 2)],            # default (1, 1)\n",
    " 'log_reg__penalty': ['l1', 'l2'],                  # default l2\n",
    " 'log_reg__solver': ['lbfgs', 'liblinear', 'saga'], # default lbfgs  \n",
    " 'log_reg__C': [10, 1.0, 0.1]                       # default 1\n",
    "}"
   ]
  },
  {
   "cell_type": "code",
   "execution_count": 93,
   "id": "2e4c8854",
   "metadata": {
    "scrolled": true
   },
   "outputs": [
    {
     "name": "stdout",
     "output_type": "stream",
     "text": [
      "Fitting 3 folds for each of 108 candidates, totalling 324 fits\n"
     ]
    },
    {
     "name": "stderr",
     "output_type": "stream",
     "text": [
      "/opt/homebrew/Cellar/jupyterlab/3.3.2/libexec/lib/python3.9/site-packages/sklearn/model_selection/_validation.py:378: FitFailedWarning: \n",
      "54 fits failed out of a total of 324.\n",
      "The score on these train-test partitions for these parameters will be set to nan.\n",
      "If these failures are not expected, you can try to debug them by setting error_score='raise'.\n",
      "\n",
      "Below are more details about the failures:\n",
      "--------------------------------------------------------------------------------\n",
      "54 fits failed with the following error:\n",
      "Traceback (most recent call last):\n",
      "  File \"/opt/homebrew/Cellar/jupyterlab/3.3.2/libexec/lib/python3.9/site-packages/sklearn/model_selection/_validation.py\", line 686, in _fit_and_score\n",
      "    estimator.fit(X_train, y_train, **fit_params)\n",
      "  File \"/opt/homebrew/Cellar/jupyterlab/3.3.2/libexec/lib/python3.9/site-packages/sklearn/pipeline.py\", line 382, in fit\n",
      "    self._final_estimator.fit(Xt, y, **fit_params_last_step)\n",
      "  File \"/opt/homebrew/Cellar/jupyterlab/3.3.2/libexec/lib/python3.9/site-packages/sklearn/linear_model/_logistic.py\", line 1091, in fit\n",
      "    solver = _check_solver(self.solver, self.penalty, self.dual)\n",
      "  File \"/opt/homebrew/Cellar/jupyterlab/3.3.2/libexec/lib/python3.9/site-packages/sklearn/linear_model/_logistic.py\", line 61, in _check_solver\n",
      "    raise ValueError(\n",
      "ValueError: Solver lbfgs supports only 'l2' or 'none' penalties, got l1 penalty.\n",
      "\n",
      "  warnings.warn(some_fits_failed_message, FitFailedWarning)\n",
      "/opt/homebrew/Cellar/jupyterlab/3.3.2/libexec/lib/python3.9/site-packages/sklearn/model_selection/_search.py:953: UserWarning: One or more of the test scores are non-finite: [       nan        nan        nan        nan        nan        nan\n",
      " 0.46540961 0.46081339 0.46604814 0.46635    0.46692642 0.4861262\n",
      " 0.46530169 0.46651571 0.4697078  0.47054844 0.4707031  0.48393733\n",
      " 0.47778915 0.47580526 0.48225336 0.48145478 0.47738992 0.47844969\n",
      " 0.48308012 0.47695249 0.48083978 0.47837786 0.48074992 0.47502881\n",
      " 0.47699122 0.47637428 0.48208217 0.48137624 0.47765233 0.47789313\n",
      "        nan        nan        nan        nan        nan        nan\n",
      " 0.47202286 0.46830321 0.4749313  0.4640402  0.47513415 0.4350526\n",
      " 0.48734198 0.48419383 0.48635073 0.48585223 0.48587681 0.4613311\n",
      " 0.46859863 0.46260248 0.4643847  0.45482358 0.46124555 0.42243072\n",
      " 0.45584428 0.45206126 0.44615883 0.43960966 0.44567718 0.39734865\n",
      " 0.46859863 0.46253669 0.46232661 0.45507658 0.46158751 0.42400273\n",
      "        nan        nan        nan        nan        nan        nan\n",
      " 0.31417145 0.31353129 0.31343906 0.31225862 0.31343906 0.30359842\n",
      " 0.31434082 0.31472816 0.31380105 0.31378902 0.31380105 0.3122449\n",
      " 0.38270282 0.376455   0.38285438 0.36736225 0.38262846 0.32057189\n",
      " 0.3593445  0.34545338 0.35831611 0.33555751 0.35581343 0.30218833\n",
      " 0.38237295 0.37637089 0.38263464 0.36748165 0.38258666 0.32057189]\n",
      "  warnings.warn(\n"
     ]
    },
    {
     "name": "stdout",
     "output_type": "stream",
     "text": [
      "Best parameters found: \n",
      "{'log_reg__C': 1.0, 'log_reg__penalty': 'l1', 'log_reg__solver': 'saga', 'tfidf__max_features': 5000, 'tfidf__ngram_range': (1, 1)}\n"
     ]
    }
   ],
   "source": [
    "best_log_reg = find_best_estimator(pipe=log_reg_pipeline, params=log_reg_param, cv=3, X_train=X_train, y_train=y_train)"
   ]
  },
  {
   "cell_type": "markdown",
   "id": "5d63450a",
   "metadata": {},
   "source": [
    "Score for Logistic Regresion baseline:"
   ]
  },
  {
   "cell_type": "code",
   "execution_count": 94,
   "id": "352b24b8",
   "metadata": {},
   "outputs": [
    {
     "name": "stdout",
     "output_type": "stream",
     "text": [
      "              precision    recall  f1-score   support\n",
      "\n",
      "           0       0.59      0.50      0.54       823\n",
      "           1       0.60      0.76      0.67      1083\n",
      "           2       0.73      0.20      0.31       229\n",
      "\n",
      "    accuracy                           0.60      2135\n",
      "   macro avg       0.64      0.49      0.51      2135\n",
      "weighted avg       0.61      0.60      0.58      2135\n",
      "\n"
     ]
    }
   ],
   "source": [
    "log_regr_baseline = create_pipeline(LogisticRegression(max_iter=10000), 'log_reg')\n",
    "log_regr_baseline.fit(X_train,y_train)\n",
    "show_best_model_score(model=log_regr_baseline, X_test=X_test, y_test=y_test)"
   ]
  },
  {
   "cell_type": "markdown",
   "id": "689312e5",
   "metadata": {},
   "source": [
    "Score for Logistic Regresion with best parameters:"
   ]
  },
  {
   "cell_type": "code",
   "execution_count": 95,
   "id": "1e7a5719",
   "metadata": {},
   "outputs": [
    {
     "name": "stdout",
     "output_type": "stream",
     "text": [
      "              precision    recall  f1-score   support\n",
      "\n",
      "           0       0.60      0.49      0.54       823\n",
      "           1       0.60      0.76      0.67      1083\n",
      "           2       0.67      0.24      0.35       229\n",
      "\n",
      "    accuracy                           0.60      2135\n",
      "   macro avg       0.62      0.50      0.52      2135\n",
      "weighted avg       0.61      0.60      0.59      2135\n",
      "\n"
     ]
    }
   ],
   "source": [
    "show_best_model_score(model=best_log_reg, X_test=X_test, y_test=y_test)"
   ]
  },
  {
   "cell_type": "markdown",
   "id": "9e030587",
   "metadata": {},
   "source": [
    "Hypertuning for Logistic Regression did not help much, F1-macro and F1-weighted have beed improved by 0.1."
   ]
  },
  {
   "cell_type": "markdown",
   "id": "0bf96b3d",
   "metadata": {},
   "source": [
    "### Support Vector Machines"
   ]
  },
  {
   "cell_type": "code",
   "execution_count": 98,
   "id": "51580978",
   "metadata": {},
   "outputs": [],
   "source": [
    "svc_pipeline = create_pipeline(SVC(), 'svc')\n",
    "\n",
    "svc_param = {\n",
    " 'tfidf__max_features':[5000, 10000, None],\n",
    " 'tfidf__ngram_range': [(1, 1), (1, 2)],\n",
    " 'svc__kernel': ['linear', 'rbf', 'poly'],   \n",
    " 'svc__C': [10, 1, 0.1]\n",
    "}"
   ]
  },
  {
   "cell_type": "code",
   "execution_count": 99,
   "id": "5d186f01",
   "metadata": {},
   "outputs": [
    {
     "name": "stdout",
     "output_type": "stream",
     "text": [
      "Fitting 3 folds for each of 54 candidates, totalling 162 fits\n",
      "Best parameters found: \n",
      "{'svc__C': 10, 'svc__kernel': 'linear', 'tfidf__max_features': None, 'tfidf__ngram_range': (1, 2)}\n"
     ]
    }
   ],
   "source": [
    "best_svc = find_best_estimator(pipe=svc_pipeline, params=svc_param, cv=3, X_train=X_train, y_train=y_train)"
   ]
  },
  {
   "cell_type": "markdown",
   "id": "d8facbe0",
   "metadata": {},
   "source": [
    "Score for Support Vector Machines baseline:"
   ]
  },
  {
   "cell_type": "code",
   "execution_count": 100,
   "id": "94408c59",
   "metadata": {
    "scrolled": true
   },
   "outputs": [
    {
     "name": "stdout",
     "output_type": "stream",
     "text": [
      "              precision    recall  f1-score   support\n",
      "\n",
      "           0       0.64      0.47      0.54       823\n",
      "           1       0.60      0.82      0.69      1083\n",
      "           2       0.75      0.13      0.22       229\n",
      "\n",
      "    accuracy                           0.61      2135\n",
      "   macro avg       0.66      0.47      0.48      2135\n",
      "weighted avg       0.63      0.61      0.58      2135\n",
      "\n"
     ]
    }
   ],
   "source": [
    "svc_baseline = create_pipeline(SVC(), 'svc')\n",
    "svc_baseline.fit(X_train,y_train)\n",
    "show_best_model_score(model=svc_baseline, X_test=X_test, y_test=y_test)"
   ]
  },
  {
   "cell_type": "markdown",
   "id": "935945d7",
   "metadata": {},
   "source": [
    "Score for Support Vector Machines with best parameters:"
   ]
  },
  {
   "cell_type": "code",
   "execution_count": 101,
   "id": "7660aee9",
   "metadata": {},
   "outputs": [
    {
     "name": "stdout",
     "output_type": "stream",
     "text": [
      "              precision    recall  f1-score   support\n",
      "\n",
      "           0       0.61      0.42      0.50       823\n",
      "           1       0.59      0.78      0.67      1083\n",
      "           2       0.57      0.33      0.42       229\n",
      "\n",
      "    accuracy                           0.59      2135\n",
      "   macro avg       0.59      0.51      0.53      2135\n",
      "weighted avg       0.59      0.59      0.58      2135\n",
      "\n"
     ]
    }
   ],
   "source": [
    "show_best_model_score(model=best_svc, X_test=X_test, y_test=y_test)"
   ]
  },
  {
   "cell_type": "markdown",
   "id": "5251e38b",
   "metadata": {},
   "source": [
    "Hypertuning for Support Vector Machines did not help much, only F1-macro has beed improved by 0.5."
   ]
  },
  {
   "cell_type": "markdown",
   "id": "9b307488",
   "metadata": {},
   "source": [
    "### XGBoost"
   ]
  },
  {
   "cell_type": "code",
   "execution_count": 48,
   "id": "b78ef6cc",
   "metadata": {},
   "outputs": [],
   "source": [
    "xgb_pipeline = create_pipeline(XGBClassifier(), 'xgb')\n",
    "\n",
    "xgb_param = {\n",
    " 'tfidf__max_features':[5000, 10000, None],\n",
    " 'tfidf__ngram_range': [(1, 1), (1, 2)],\n",
    " 'xgb__max_depth': [5, 6, 7],   # default 6\n",
    " 'xgb__learning_rate': [0.2, 0.3, 0.4] # default 0.3\n",
    "}"
   ]
  },
  {
   "cell_type": "code",
   "execution_count": 49,
   "id": "982bdf52",
   "metadata": {
    "scrolled": true
   },
   "outputs": [
    {
     "name": "stdout",
     "output_type": "stream",
     "text": [
      "Fitting 3 folds for each of 54 candidates, totalling 162 fits\n",
      "Best parameters found: \n",
      "{'tfidf__max_features': None, 'tfidf__ngram_range': (1, 1), 'xgb__learning_rate': 0.4, 'xgb__max_depth': 6}\n"
     ]
    }
   ],
   "source": [
    "best_xgb = find_best_estimator(pipe=xgb_pipeline, params=xgb_param, cv=3, X_train=X_train, y_train=y_train)"
   ]
  },
  {
   "cell_type": "markdown",
   "id": "a741dd17",
   "metadata": {},
   "source": [
    "Score for XGBoost baseline:"
   ]
  },
  {
   "cell_type": "code",
   "execution_count": 50,
   "id": "a2688b89",
   "metadata": {},
   "outputs": [
    {
     "name": "stdout",
     "output_type": "stream",
     "text": [
      "              precision    recall  f1-score   support\n",
      "\n",
      "           0       0.58      0.50      0.54       823\n",
      "           1       0.59      0.72      0.65      1083\n",
      "           2       0.53      0.25      0.34       229\n",
      "\n",
      "    accuracy                           0.59      2135\n",
      "   macro avg       0.57      0.49      0.51      2135\n",
      "weighted avg       0.58      0.59      0.57      2135\n",
      "\n"
     ]
    }
   ],
   "source": [
    "xgb_baseline = create_pipeline(XGBClassifier(), 'xgb')\n",
    "xgb_baseline.fit(X_train,y_train)\n",
    "show_best_model_score(model=xgb_baseline, X_test=X_test, y_test=y_test)"
   ]
  },
  {
   "cell_type": "markdown",
   "id": "4244ae1d",
   "metadata": {},
   "source": [
    "Score for XGBoost with best parameters:"
   ]
  },
  {
   "cell_type": "code",
   "execution_count": 51,
   "id": "7c795633",
   "metadata": {},
   "outputs": [
    {
     "name": "stdout",
     "output_type": "stream",
     "text": [
      "              precision    recall  f1-score   support\n",
      "\n",
      "           0       0.58      0.51      0.54       823\n",
      "           1       0.59      0.72      0.65      1083\n",
      "           2       0.56      0.22      0.32       229\n",
      "\n",
      "    accuracy                           0.59      2135\n",
      "   macro avg       0.58      0.48      0.50      2135\n",
      "weighted avg       0.58      0.59      0.57      2135\n",
      "\n"
     ]
    }
   ],
   "source": [
    "show_best_model_score(model=best_xgb, X_test=X_test, y_test=y_test)"
   ]
  },
  {
   "cell_type": "markdown",
   "id": "b3d7ce4e",
   "metadata": {},
   "source": [
    "Hypertuning for XGBoost did not help much. Let's check models for neural networks."
   ]
  },
  {
   "cell_type": "markdown",
   "id": "67a6a93b",
   "metadata": {},
   "source": [
    "# Neural Networks"
   ]
  },
  {
   "cell_type": "code",
   "execution_count": 52,
   "id": "5fe3f35f",
   "metadata": {},
   "outputs": [],
   "source": [
    "import re\n",
    "import tensorflow as tf\n",
    "from sklearn.preprocessing import LabelEncoder\n",
    "from tensorflow.keras.models import Sequential\n",
    "from tensorflow.keras.callbacks import EarlyStopping\n",
    "from tensorflow.keras.layers import Dense, Conv1D, GlobalMaxPooling1D, Embedding, LSTM, Dropout, SimpleRNN, Bidirectional, GRU"
   ]
  },
  {
   "cell_type": "markdown",
   "id": "154b417a",
   "metadata": {},
   "source": [
    "Preparing data:"
   ]
  },
  {
   "cell_type": "code",
   "execution_count": 398,
   "id": "59135fc8",
   "metadata": {},
   "outputs": [],
   "source": [
    "df1 = pd.read_csv('train.tsv', sep='\\t')\n",
    "df2 = pd.read_csv('dev.tsv', sep='\\t')\n",
    "df2.rename({'Text data': 'Text_data'}, inplace=True, axis='columns')\n",
    "df = pd.concat([df1, df2], ignore_index=True)\n",
    "df.drop([\"PID\"], axis=1, inplace=True)\n",
    "df.drop_duplicates(inplace=True, ignore_index=True)\n",
    "X = df['Text_data']\n",
    "y = df['Label']"
   ]
  },
  {
   "cell_type": "code",
   "execution_count": 399,
   "id": "e5d8727c",
   "metadata": {},
   "outputs": [],
   "source": [
    "def preprocess(text):\n",
    "    txt = re.sub('https?:\\/\\/.*','',text)   # delete links\n",
    "    txt = re.sub('\\d',' ', txt)  # delete numbers\n",
    "    return txt"
   ]
  },
  {
   "cell_type": "code",
   "execution_count": 400,
   "id": "106543a8",
   "metadata": {},
   "outputs": [],
   "source": [
    "X = [preprocess(el) for el in X]"
   ]
  },
  {
   "cell_type": "markdown",
   "id": "b0db1a7c",
   "metadata": {},
   "source": [
    "Tokenization will be executed using TextVectorization and tokens will be lomit to 5000."
   ]
  },
  {
   "cell_type": "code",
   "execution_count": 401,
   "id": "9e1a098b",
   "metadata": {},
   "outputs": [],
   "source": [
    "vectorize_layer = tf.keras.layers.TextVectorization(max_tokens=5000, output_mode=\"int\", output_sequence_length=40)"
   ]
  },
  {
   "cell_type": "code",
   "execution_count": 402,
   "id": "c20d601b",
   "metadata": {},
   "outputs": [],
   "source": [
    "vectorize_layer.adapt(X)"
   ]
  },
  {
   "cell_type": "code",
   "execution_count": 403,
   "id": "5b370906",
   "metadata": {},
   "outputs": [
    {
     "data": {
      "text/plain": [
       "<tf.Tensor: shape=(7115, 40), dtype=int64, numpy=\n",
       "array([[ 653,   15,    6, ...,  189,  194,   52],\n",
       "       [   6,  157,   88, ...,   14,    7,  217],\n",
       "       [ 157,  111,    1, ...,    0,    0,    0],\n",
       "       ...,\n",
       "       [   1, 1711,  935, ...,  650,    6,  656],\n",
       "       [ 285,   35,  512, ...,    1,    4, 1535],\n",
       "       [1404,   15,  358, ...,   17,   46,    7]], dtype=int64)>"
      ]
     },
     "execution_count": 403,
     "metadata": {},
     "output_type": "execute_result"
    }
   ],
   "source": [
    "vectorize_layer(X)"
   ]
  },
  {
   "cell_type": "code",
   "execution_count": 404,
   "id": "2cddea3c",
   "metadata": {},
   "outputs": [
    {
     "data": {
      "text/plain": [
       "['',\n",
       " '[UNK]',\n",
       " 'i',\n",
       " 'to',\n",
       " 'and',\n",
       " 'the',\n",
       " 'my',\n",
       " 'a',\n",
       " 'of',\n",
       " 'me',\n",
       " 'it',\n",
       " 'that',\n",
       " 'in',\n",
       " 'but',\n",
       " 'just',\n",
       " 'for',\n",
       " 'is',\n",
       " 'have',\n",
       " 'this',\n",
       " 'with',\n",
       " 'so',\n",
       " 'was',\n",
       " 'like',\n",
       " 'im',\n",
       " 'feel',\n",
       " 'be',\n",
       " 'you',\n",
       " 'not',\n",
       " 'do',\n",
       " 'on',\n",
       " 'all',\n",
       " 'or',\n",
       " 'want',\n",
       " 'know',\n",
       " 'dont',\n",
       " 'i’m',\n",
       " 'about',\n",
       " 'at',\n",
       " 'out',\n",
       " 'because',\n",
       " 'life',\n",
       " 'get',\n",
       " 'if',\n",
       " 'myself',\n",
       " 'what',\n",
       " 'up',\n",
       " 'been',\n",
       " 'am',\n",
       " 'even',\n",
       " 'when',\n",
       " 'no',\n",
       " 'as',\n",
       " 'time',\n",
       " 'how',\n",
       " 'people',\n",
       " 'they',\n",
       " 'really',\n",
       " 'now',\n",
       " 'had',\n",
       " 'she',\n",
       " 'its',\n",
       " 'one',\n",
       " 'her',\n",
       " 'from',\n",
       " 'can',\n",
       " 'are',\n",
       " 'don’t',\n",
       " 'depression',\n",
       " 'would',\n",
       " 'he',\n",
       " 'friends',\n",
       " 'go',\n",
       " 'ive',\n",
       " 'will',\n",
       " 'them',\n",
       " 'going',\n",
       " 'never',\n",
       " 'think',\n",
       " 'cant',\n",
       " 'being',\n",
       " 'day',\n",
       " 'much',\n",
       " 'more',\n",
       " 'things',\n",
       " 'we',\n",
       " 'help',\n",
       " 'only',\n",
       " 'has',\n",
       " 'years',\n",
       " 'some',\n",
       " 'there',\n",
       " 'who',\n",
       " 'an',\n",
       " 'anything',\n",
       " 'better',\n",
       " 'it’s',\n",
       " 'something',\n",
       " 'then',\n",
       " 'back',\n",
       " 'good',\n",
       " 'why',\n",
       " 'i’ve',\n",
       " 'make',\n",
       " 'everything',\n",
       " 'always',\n",
       " 'any',\n",
       " 'still',\n",
       " 'way',\n",
       " 'feeling',\n",
       " 'anymore',\n",
       " 'by',\n",
       " 'year',\n",
       " 'someone',\n",
       " 'too',\n",
       " 'nothing',\n",
       " 'anyone',\n",
       " 'got',\n",
       " 'school',\n",
       " 'could',\n",
       " 'work',\n",
       " 'see',\n",
       " 'after',\n",
       " 'him',\n",
       " 'again',\n",
       " 'over',\n",
       " 'happy',\n",
       " 'your',\n",
       " 'other',\n",
       " 'depressed',\n",
       " 'need',\n",
       " 'here',\n",
       " 'hate',\n",
       " 'family',\n",
       " 'every',\n",
       " 'talk',\n",
       " 'into',\n",
       " 'bad',\n",
       " 'fucking',\n",
       " 'can’t',\n",
       " 'love',\n",
       " 'everyone',\n",
       " 'alone',\n",
       " 'ever',\n",
       " 'than',\n",
       " 'down',\n",
       " 'where',\n",
       " 'say',\n",
       " 'right',\n",
       " 'thing',\n",
       " 'since',\n",
       " 'doing',\n",
       " 'through',\n",
       " 'try',\n",
       " 'off',\n",
       " 'getting',\n",
       " 'felt',\n",
       " 'die',\n",
       " 'new',\n",
       " 'last',\n",
       " 'were',\n",
       " 'very',\n",
       " 'also',\n",
       " 'shit',\n",
       " 'which',\n",
       " 'started',\n",
       " 'around',\n",
       " 'care',\n",
       " 'hard',\n",
       " 'did',\n",
       " 'away',\n",
       " 'person',\n",
       " 'live',\n",
       " 'take',\n",
       " 'didnt',\n",
       " 'end',\n",
       " 'trying',\n",
       " 'lot',\n",
       " 'point',\n",
       " 'friend',\n",
       " 'else',\n",
       " 'told',\n",
       " 'long',\n",
       " 'first',\n",
       " 'job',\n",
       " 'before',\n",
       " 'parents',\n",
       " 'keep',\n",
       " 'made',\n",
       " 'having',\n",
       " 'few',\n",
       " 'home',\n",
       " 'thought',\n",
       " 'well',\n",
       " 'months',\n",
       " 'days',\n",
       " 'wish',\n",
       " 'worse',\n",
       " 'tell',\n",
       " 'while',\n",
       " 'should',\n",
       " 'most',\n",
       " 'find',\n",
       " 'makes',\n",
       " 'maybe',\n",
       " 'tired',\n",
       " 'same',\n",
       " 'tried',\n",
       " 'their',\n",
       " 'these',\n",
       " 'wanted',\n",
       " 'anxiety',\n",
       " 'thoughts',\n",
       " 'said',\n",
       " 'best',\n",
       " 'enough',\n",
       " 'feels',\n",
       " 'stop',\n",
       " 'little',\n",
       " 'sad',\n",
       " 'his',\n",
       " 'many',\n",
       " 'ago',\n",
       " 'actually',\n",
       " 'lost',\n",
       " 'sleep',\n",
       " 'went',\n",
       " 'sometimes',\n",
       " 'today',\n",
       " 'past',\n",
       " 'world',\n",
       " 'hope',\n",
       " 'mental',\n",
       " 'own',\n",
       " 'without',\n",
       " 'start',\n",
       " 'thinking',\n",
       " 'ill',\n",
       " 'mom',\n",
       " 'times',\n",
       " 'kill',\n",
       " 'give',\n",
       " 'though',\n",
       " 'reason',\n",
       " 'pain',\n",
       " 'removed',\n",
       " 'fuck',\n",
       " 'able',\n",
       " 'living',\n",
       " 'does',\n",
       " 'used',\n",
       " 'thats',\n",
       " 'done',\n",
       " 'come',\n",
       " 'sure',\n",
       " 'those',\n",
       " 'week',\n",
       " 'doesnt',\n",
       " 'two',\n",
       " 'left',\n",
       " 'mind',\n",
       " 'another',\n",
       " 'self',\n",
       " 'look',\n",
       " 'until',\n",
       " 'let',\n",
       " 'night',\n",
       " 'our',\n",
       " 'bed',\n",
       " 'suicide',\n",
       " 'weeks',\n",
       " 'almost',\n",
       " 'wrong',\n",
       " 'didn’t',\n",
       " 'sorry',\n",
       " 'old',\n",
       " 'understand',\n",
       " 'making',\n",
       " 'scared',\n",
       " 'already',\n",
       " 'once',\n",
       " 'relationship',\n",
       " 'house',\n",
       " 'put',\n",
       " 'social',\n",
       " 'place',\n",
       " 'crying',\n",
       " 'probably',\n",
       " 'others',\n",
       " 'head',\n",
       " 'might',\n",
       " 'seems',\n",
       " 'leave',\n",
       " 'us',\n",
       " 'next',\n",
       " 'talking',\n",
       " 'least',\n",
       " 'high',\n",
       " 'finally',\n",
       " 'pretty',\n",
       " 'health',\n",
       " 'girl',\n",
       " 'hours',\n",
       " 'guess',\n",
       " 'please',\n",
       " 'college',\n",
       " 'bit',\n",
       " 'hurt',\n",
       " 'different',\n",
       " 'matter',\n",
       " 'either',\n",
       " 'stay',\n",
       " 'kind',\n",
       " 'looking',\n",
       " 'whole',\n",
       " 'cry',\n",
       " 'suicidal',\n",
       " 'gonna',\n",
       " 'yet',\n",
       " 'taking',\n",
       " 'normal',\n",
       " 'feelings',\n",
       " 'working',\n",
       " 'post',\n",
       " 'dad',\n",
       " 'wont',\n",
       " 'therapy',\n",
       " 'part',\n",
       " 'remember',\n",
       " 'wanna',\n",
       " 'seem',\n",
       " 'recently',\n",
       " 'great',\n",
       " 'change',\n",
       " 'close',\n",
       " 'such',\n",
       " 'theres',\n",
       " 'problems',\n",
       " 'stuff',\n",
       " 'honestly',\n",
       " 'found',\n",
       " 'havent',\n",
       " 'money',\n",
       " 'room',\n",
       " 'real',\n",
       " 'id',\n",
       " 'everyday',\n",
       " 'gone',\n",
       " 'less',\n",
       " 'ask',\n",
       " 'stupid',\n",
       " 'completely',\n",
       " 'saying',\n",
       " 'literally',\n",
       " 'nobody',\n",
       " 'believe',\n",
       " 'came',\n",
       " 'lonely',\n",
       " 'took',\n",
       " 'advice',\n",
       " 'couple',\n",
       " 'okay',\n",
       " 'month',\n",
       " 'together',\n",
       " 'due',\n",
       " 'that’s',\n",
       " 'etc',\n",
       " 'worst',\n",
       " 'read',\n",
       " 'happened',\n",
       " 'girlfriend',\n",
       " 'doesn’t',\n",
       " 'deal',\n",
       " 'each',\n",
       " 'become',\n",
       " 'sick',\n",
       " 'constantly',\n",
       " 'i’ll',\n",
       " 'wasnt',\n",
       " 'body',\n",
       " 'move',\n",
       " 'future',\n",
       " 'youre',\n",
       " 'cause',\n",
       " 'isnt',\n",
       " 'inside',\n",
       " 'during',\n",
       " 'therapist',\n",
       " 'knew',\n",
       " 'call',\n",
       " 'gets',\n",
       " 'break',\n",
       " 'yourself',\n",
       " 'may',\n",
       " 'soon',\n",
       " 'medication',\n",
       " 'brain',\n",
       " 'asked',\n",
       " 'truly',\n",
       " 'guys',\n",
       " 'stuck',\n",
       " 'empty',\n",
       " 'mean',\n",
       " 'issues',\n",
       " 'loved',\n",
       " 'far',\n",
       " 'nice',\n",
       " 'telling',\n",
       " 'fact',\n",
       " 'longer',\n",
       " 'motivation',\n",
       " 'idk',\n",
       " 'hell',\n",
       " 'heart',\n",
       " 'situation',\n",
       " 'problem',\n",
       " 'idea',\n",
       " 'happiness',\n",
       " 'experience',\n",
       " 'death',\n",
       " 'fun',\n",
       " 'couldnt',\n",
       " 'starting',\n",
       " 'single',\n",
       " 'mother',\n",
       " 'guy',\n",
       " 'happen',\n",
       " 'both',\n",
       " 'wake',\n",
       " 'stopped',\n",
       " 'face',\n",
       " 'struggling',\n",
       " 'use',\n",
       " 'needed',\n",
       " 'dead',\n",
       " 'moment',\n",
       " 'alive',\n",
       " 'enjoy',\n",
       " 'big',\n",
       " 'called',\n",
       " 'boyfriend',\n",
       " 'kids',\n",
       " 'deserve',\n",
       " 'cut',\n",
       " 'eat',\n",
       " 'seeing',\n",
       " 'meds',\n",
       " 'later',\n",
       " 'angry',\n",
       " 'side',\n",
       " 'broke',\n",
       " 'afraid',\n",
       " 'emotions',\n",
       " 'says',\n",
       " 'sense',\n",
       " 'basically',\n",
       " 'state',\n",
       " 'fine',\n",
       " 'class',\n",
       " 'usually',\n",
       " 'wants',\n",
       " 'group',\n",
       " 'half',\n",
       " 'small',\n",
       " 'hit',\n",
       " 'fucked',\n",
       " 'support',\n",
       " 'car',\n",
       " 'thanks',\n",
       " 'man',\n",
       " 'energy',\n",
       " 'spend',\n",
       " 'instead',\n",
       " 'reading',\n",
       " 'spent',\n",
       " 'worth',\n",
       " 'goes',\n",
       " 'whatever',\n",
       " 'supposed',\n",
       " 'shes',\n",
       " 'kinda',\n",
       " 'doctor',\n",
       " 'barely',\n",
       " 'often',\n",
       " 'gotten',\n",
       " 'comes',\n",
       " 'wouldnt',\n",
       " 'god',\n",
       " 'won’t',\n",
       " 'miss',\n",
       " 'moved',\n",
       " 'hurts',\n",
       " 'lately',\n",
       " 'forward',\n",
       " 'decided',\n",
       " 'thank',\n",
       " 'losing',\n",
       " 'lose',\n",
       " 'birthday',\n",
       " 'writing',\n",
       " 'play',\n",
       " 'there’s',\n",
       " 'i’d',\n",
       " 'sister',\n",
       " 'brother',\n",
       " 'knowing',\n",
       " 'haven’t',\n",
       " 'diagnosed',\n",
       " 'weird',\n",
       " 'show',\n",
       " 'morning',\n",
       " 'music',\n",
       " 'kid',\n",
       " 'coming',\n",
       " 'shitty',\n",
       " 'outside',\n",
       " 'gtpoplt',\n",
       " 'age',\n",
       " 'sadness',\n",
       " 'ok',\n",
       " 'online',\n",
       " 'anyway',\n",
       " 'fear',\n",
       " 'ended',\n",
       " 'whats',\n",
       " 'burden',\n",
       " 'th',\n",
       " 'control',\n",
       " 'dark',\n",
       " 'words',\n",
       " 'terrible',\n",
       " 'suffering',\n",
       " 'hear',\n",
       " 'second',\n",
       " 'cannot',\n",
       " 'seen',\n",
       " 'rest',\n",
       " 'knows',\n",
       " 'horrible',\n",
       " 'extremely',\n",
       " 'bring',\n",
       " 'talked',\n",
       " 'met',\n",
       " 'father',\n",
       " 'sit',\n",
       " 'rather',\n",
       " 'helped',\n",
       " 'entire',\n",
       " 'cares',\n",
       " 'turn',\n",
       " 'low',\n",
       " 'gave',\n",
       " 'meet',\n",
       " 'lives',\n",
       " 'however',\n",
       " 'reality',\n",
       " 'phone',\n",
       " 'open',\n",
       " 'especially',\n",
       " 'hang',\n",
       " 'games',\n",
       " 'eating',\n",
       " 'deep',\n",
       " 'attention',\n",
       " 'whenever',\n",
       " 'saw',\n",
       " 'story',\n",
       " 'quite',\n",
       " 'absolutely',\n",
       " 'killing',\n",
       " 'currently',\n",
       " 'worked',\n",
       " 'wanting',\n",
       " 'pay',\n",
       " 'wasn’t',\n",
       " 'fight',\n",
       " 'died',\n",
       " 'full',\n",
       " 'course',\n",
       " 'became',\n",
       " 'weight',\n",
       " 'three',\n",
       " 'super',\n",
       " 'fall',\n",
       " 'behind',\n",
       " 'write',\n",
       " 'broken',\n",
       " 'realize',\n",
       " 'miserable',\n",
       " 'isn’t',\n",
       " 'sucks',\n",
       " 'eventually',\n",
       " 'late',\n",
       " 'grade',\n",
       " 'upset',\n",
       " 'worried',\n",
       " 'difficult',\n",
       " 'useless',\n",
       " 'true',\n",
       " 'happens',\n",
       " 'eyes',\n",
       " 'trust',\n",
       " 'kept',\n",
       " 'realized',\n",
       " 'classes',\n",
       " 'theyre',\n",
       " 'couldn’t',\n",
       " 'asking',\n",
       " 'you’re',\n",
       " 'hes',\n",
       " 'anxious',\n",
       " 'watching',\n",
       " 'helps',\n",
       " 'exist',\n",
       " 'constant',\n",
       " 'ones',\n",
       " 'human',\n",
       " 'free',\n",
       " 'watch',\n",
       " 'taken',\n",
       " 'given',\n",
       " 'apart',\n",
       " 'young',\n",
       " 'numb',\n",
       " 'drugs',\n",
       " 'worthless',\n",
       " 'reddit',\n",
       " 'grades',\n",
       " 'food',\n",
       " 'continue',\n",
       " 'she’s',\n",
       " 'share',\n",
       " 'giving',\n",
       " 'between',\n",
       " 'stress',\n",
       " 'major',\n",
       " 'vent',\n",
       " 'positive',\n",
       " 'negative',\n",
       " 'walk',\n",
       " 'somehow',\n",
       " 'panic',\n",
       " 'country',\n",
       " 'forever',\n",
       " 'ex',\n",
       " 'yesterday',\n",
       " 'virus',\n",
       " 'towards',\n",
       " 'smile',\n",
       " 'short',\n",
       " 'happening',\n",
       " 'changed',\n",
       " 'turned',\n",
       " 'failure',\n",
       " 'waiting',\n",
       " 'struggle',\n",
       " 'sleeping',\n",
       " 'mood',\n",
       " 'hopeless',\n",
       " 'slowly',\n",
       " 'playing',\n",
       " 'emotional',\n",
       " 'strong',\n",
       " 'interest',\n",
       " 'chest',\n",
       " 'worry',\n",
       " 'top',\n",
       " 'run',\n",
       " 'hospital',\n",
       " 'hold',\n",
       " 'dying',\n",
       " 'relationships',\n",
       " 'reach',\n",
       " 'means',\n",
       " 'listen',\n",
       " 'handle',\n",
       " 'dog',\n",
       " 'forget',\n",
       " 'fault',\n",
       " 'drink',\n",
       " 'child',\n",
       " 'easy',\n",
       " 'wouldn’t',\n",
       " 'tomorrow',\n",
       " 'falling',\n",
       " 'minutes',\n",
       " 'crazy',\n",
       " 'beautiful',\n",
       " 'ugly',\n",
       " 'possible',\n",
       " 'hour',\n",
       " 'fix',\n",
       " 'university',\n",
       " 'selfish',\n",
       " 'none',\n",
       " 'explain',\n",
       " 'chance',\n",
       " 'amp',\n",
       " 'what’s',\n",
       " 'sort',\n",
       " 'mad',\n",
       " 'keeps',\n",
       " 'ways',\n",
       " 'type',\n",
       " 'suffer',\n",
       " 'mine',\n",
       " 'hi',\n",
       " 'wife',\n",
       " 'cope',\n",
       " 'leaving',\n",
       " 'anybody',\n",
       " 'yes',\n",
       " 'lack',\n",
       " 'huge',\n",
       " 'except',\n",
       " 'pills',\n",
       " 'mess',\n",
       " 'helping',\n",
       " 'seriously',\n",
       " 'act',\n",
       " 'text',\n",
       " 'hand',\n",
       " 'failed',\n",
       " 'drive',\n",
       " 'antidepressants',\n",
       " 'they’re',\n",
       " 'takes',\n",
       " 'hey',\n",
       " 'fake',\n",
       " 'dream',\n",
       " 'dealing',\n",
       " 'coronavirus',\n",
       " 'against',\n",
       " 'video',\n",
       " 'themselves',\n",
       " 'tears',\n",
       " 'quit',\n",
       " 'joy',\n",
       " 'drunk',\n",
       " 'cried',\n",
       " 'important',\n",
       " 'works',\n",
       " 'sitting',\n",
       " 'question',\n",
       " 'physically',\n",
       " 'needs',\n",
       " 'disorder',\n",
       " 'wonder',\n",
       " 'under',\n",
       " 'study',\n",
       " 'amount',\n",
       " 'along',\n",
       " 'piece',\n",
       " 'contact',\n",
       " 'afford',\n",
       " 'serious',\n",
       " 'mentally',\n",
       " 'illness',\n",
       " 'harder',\n",
       " 'guilty',\n",
       " 'fighting',\n",
       " 'dating',\n",
       " 'daily',\n",
       " 'answer',\n",
       " 'waste',\n",
       " 'tells',\n",
       " 'severe',\n",
       " 'focus',\n",
       " 'somewhere',\n",
       " 'psychiatrist',\n",
       " 'healthy',\n",
       " 'front',\n",
       " 'clean',\n",
       " 'anger',\n",
       " 'loneliness',\n",
       " 'sex',\n",
       " 'depressive',\n",
       " 'awful',\n",
       " 'alcohol',\n",
       " 'student',\n",
       " 'rant',\n",
       " 'learn',\n",
       " 'hole',\n",
       " 'harm',\n",
       " 'cutting',\n",
       " 'yeah',\n",
       " 'reasons',\n",
       " 'party',\n",
       " 'older',\n",
       " 'he’s',\n",
       " 'exhausted',\n",
       " 'anyways',\n",
       " 'emotionally',\n",
       " 'weed',\n",
       " 'thinks',\n",
       " 'finding',\n",
       " 'born',\n",
       " 'tonight',\n",
       " 'husband',\n",
       " 'effort',\n",
       " 'early',\n",
       " 'dreams',\n",
       " 'conversation',\n",
       " 'stand',\n",
       " 'similar',\n",
       " 'ready',\n",
       " 'easier',\n",
       " 'arent',\n",
       " 'mostly',\n",
       " 'becoming',\n",
       " 'plan',\n",
       " 'partner',\n",
       " 'imagine',\n",
       " 'current',\n",
       " 'moving',\n",
       " 'moments',\n",
       " 'girls',\n",
       " 'drinking',\n",
       " 'despite',\n",
       " 'amazing',\n",
       " 'whether',\n",
       " 'push',\n",
       " 'purpose',\n",
       " 'personal',\n",
       " 'escape',\n",
       " 'ending',\n",
       " 'pathetic',\n",
       " 'oh',\n",
       " 'managed',\n",
       " 'fail',\n",
       " 'accept',\n",
       " 'mg',\n",
       " 'general',\n",
       " 'game',\n",
       " 'childhood',\n",
       " 'sound',\n",
       " 'liked',\n",
       " 'lazy',\n",
       " 'jobs',\n",
       " 'genuinely',\n",
       " 'ass',\n",
       " 'although',\n",
       " 'speak',\n",
       " 'physical',\n",
       " 'looked',\n",
       " 'lived',\n",
       " 'damn',\n",
       " 'name',\n",
       " 'hoping',\n",
       " 'fast',\n",
       " 'boring',\n",
       " 'space',\n",
       " 'm',\n",
       " 'hurting',\n",
       " 'dumb',\n",
       " 'seemed',\n",
       " 'personality',\n",
       " 'passed',\n",
       " 'issue',\n",
       " 'attempt',\n",
       " 'simply',\n",
       " 'plans',\n",
       " 'wondering',\n",
       " 'wait',\n",
       " 'sounds',\n",
       " 'putting',\n",
       " 'listening',\n",
       " 'laugh',\n",
       " 'gym',\n",
       " 'complete',\n",
       " 'staying',\n",
       " 'posting',\n",
       " 'notice',\n",
       " 'middle',\n",
       " 'loves',\n",
       " 'lie',\n",
       " 'truth',\n",
       " 'killed',\n",
       " 'date',\n",
       " 'certain',\n",
       " 'cared',\n",
       " 'bc',\n",
       " 'woke',\n",
       " 'shut',\n",
       " 'semester',\n",
       " 'incredibly',\n",
       " 'heard',\n",
       " 'growing',\n",
       " 'effects',\n",
       " 'perfect',\n",
       " 'meant',\n",
       " 'light',\n",
       " 'keeping',\n",
       " 'funny',\n",
       " 'bullshit',\n",
       " 'noticed',\n",
       " 'blame',\n",
       " 'shouldnt',\n",
       " 'degree',\n",
       " 'city',\n",
       " 'voice',\n",
       " 'using',\n",
       " 'symptoms',\n",
       " 'summer',\n",
       " 'must',\n",
       " 'hobbies',\n",
       " 'everytime',\n",
       " 'career',\n",
       " 'attack',\n",
       " 'option',\n",
       " 'fell',\n",
       " 'experiences',\n",
       " 'expect',\n",
       " 'abusive',\n",
       " 'step',\n",
       " 'looks',\n",
       " 'honest',\n",
       " 'figure',\n",
       " 'case',\n",
       " 'busy',\n",
       " 'brought',\n",
       " 'appreciate',\n",
       " 'toxic',\n",
       " 'hello',\n",
       " 'asleep',\n",
       " 'society',\n",
       " 'questions',\n",
       " 'pass',\n",
       " 'interested',\n",
       " 'hair',\n",
       " 'apartment',\n",
       " 'trouble',\n",
       " 'set',\n",
       " 'f',\n",
       " 'existence',\n",
       " 'easily',\n",
       " 'cold',\n",
       " 'choice',\n",
       " 'u',\n",
       " 'studying',\n",
       " 'peace',\n",
       " 'hated',\n",
       " 'gives',\n",
       " 'decade',\n",
       " 'corona',\n",
       " 'bother',\n",
       " 'weak',\n",
       " 'skills',\n",
       " 'quickly',\n",
       " 'forced',\n",
       " 'pick',\n",
       " 'media',\n",
       " 'excited',\n",
       " 'art',\n",
       " 'straight',\n",
       " 'safe',\n",
       " 'nowhere',\n",
       " 'memories',\n",
       " 'lay',\n",
       " 'hide',\n",
       " 'exactly',\n",
       " 'annoying',\n",
       " 'tv',\n",
       " 'regret',\n",
       " 'joke',\n",
       " 'avoid',\n",
       " 'treat',\n",
       " 'multiple',\n",
       " 'driving',\n",
       " 'caused',\n",
       " 'aware',\n",
       " 'relate',\n",
       " 'grew',\n",
       " 'fit',\n",
       " 'experienced',\n",
       " 'within',\n",
       " 'sat',\n",
       " 'missing',\n",
       " 'meaning',\n",
       " 'married',\n",
       " 'learned',\n",
       " 'herself',\n",
       " 'nearly',\n",
       " 'cycle',\n",
       " 'note',\n",
       " 'known',\n",
       " 'impossible',\n",
       " 'force',\n",
       " 'everybody',\n",
       " 'treated',\n",
       " 'till',\n",
       " 'suddenly',\n",
       " 'loving',\n",
       " 'isolated',\n",
       " 'abuse',\n",
       " 'wasting',\n",
       " 'twice',\n",
       " 'subreddit',\n",
       " 'struggled',\n",
       " 'running',\n",
       " 'ruined',\n",
       " ...]"
      ]
     },
     "execution_count": 404,
     "metadata": {},
     "output_type": "execute_result"
    }
   ],
   "source": [
    "vectorize_layer.get_vocabulary()"
   ]
  },
  {
   "cell_type": "markdown",
   "id": "e92916cd",
   "metadata": {},
   "source": [
    "Let's prepare target matrix:"
   ]
  },
  {
   "cell_type": "code",
   "execution_count": 405,
   "id": "fca3c5ac",
   "metadata": {},
   "outputs": [],
   "source": [
    "le = LabelEncoder()"
   ]
  },
  {
   "cell_type": "code",
   "execution_count": 406,
   "id": "569ac5c2",
   "metadata": {},
   "outputs": [],
   "source": [
    "y_labels = le.fit_transform(y)"
   ]
  },
  {
   "cell_type": "code",
   "execution_count": 407,
   "id": "7e67c63b",
   "metadata": {},
   "outputs": [
    {
     "data": {
      "text/plain": [
       "array([0, 0, 0, ..., 2, 2, 2])"
      ]
     },
     "execution_count": 407,
     "metadata": {},
     "output_type": "execute_result"
    }
   ],
   "source": [
    "y_labels"
   ]
  },
  {
   "cell_type": "code",
   "execution_count": 408,
   "id": "a375b8df",
   "metadata": {},
   "outputs": [],
   "source": [
    "X_train, X_test, y_train, y_test = train_test_split(X, y_labels, test_size=0.15)"
   ]
  },
  {
   "cell_type": "code",
   "execution_count": 409,
   "id": "12c2857f",
   "metadata": {},
   "outputs": [],
   "source": [
    "vocab_size = len(vectorize_layer.get_vocabulary())"
   ]
  },
  {
   "cell_type": "code",
   "execution_count": 410,
   "id": "e978e116",
   "metadata": {},
   "outputs": [
    {
     "data": {
      "text/plain": [
       "5000"
      ]
     },
     "execution_count": 410,
     "metadata": {},
     "output_type": "execute_result"
    }
   ],
   "source": [
    "vocab_size"
   ]
  },
  {
   "cell_type": "code",
   "execution_count": 411,
   "id": "a02b5d78",
   "metadata": {},
   "outputs": [
    {
     "data": {
      "text/plain": [
       "array([1, 1, 0, 0, 0, 0, 1, 0, 1, 0, 0, 0, 0, 0, 0, 0, 0, 0, 1, 1])"
      ]
     },
     "execution_count": 411,
     "metadata": {},
     "output_type": "execute_result"
    }
   ],
   "source": [
    "y_train[:20]"
   ]
  },
  {
   "cell_type": "markdown",
   "id": "c20fe0fe",
   "metadata": {},
   "source": [
    "Now, we will check three neural networks: with SimpleRNN, with LSTM and Conv1D with hidden layer."
   ]
  },
  {
   "cell_type": "markdown",
   "id": "e3124e92",
   "metadata": {},
   "source": [
    "# Simple RNN"
   ]
  },
  {
   "cell_type": "code",
   "execution_count": 412,
   "id": "38d800b4",
   "metadata": {},
   "outputs": [
    {
     "name": "stdout",
     "output_type": "stream",
     "text": [
      "Model: \"sequential_73\"\n",
      "_________________________________________________________________\n",
      " Layer (type)                Output Shape              Param #   \n",
      "=================================================================\n",
      " text_vectorization_26 (Text  (None, 40)               0         \n",
      " Vectorization)                                                  \n",
      "                                                                 \n",
      " embedding_72 (Embedding)    (None, 40, 25)            125000    \n",
      "                                                                 \n",
      " simple_rnn_16 (SimpleRNN)   (None, 32)                1856      \n",
      "                                                                 \n",
      " dense_83 (Dense)            (None, 3)                 99        \n",
      "                                                                 \n",
      "=================================================================\n",
      "Total params: 126,955\n",
      "Trainable params: 126,955\n",
      "Non-trainable params: 0\n",
      "_________________________________________________________________\n",
      "None\n"
     ]
    }
   ],
   "source": [
    "model1 = Sequential()\n",
    "model1.add(vectorize_layer)\n",
    "model1.add(Embedding(vocab_size, 25))\n",
    "model1.add(SimpleRNN(32))\n",
    "model1.add(Dense(3, activation=\"softmax\"))\n",
    "\n",
    "print(model1.summary())"
   ]
  },
  {
   "cell_type": "code",
   "execution_count": 413,
   "id": "9369348f",
   "metadata": {
    "scrolled": true
   },
   "outputs": [
    {
     "name": "stdout",
     "output_type": "stream",
     "text": [
      "Epoch 1/100\n",
      "171/171 [==============================] - 4s 17ms/step - loss: 0.9321 - sparse_categorical_accuracy: 0.5502 - val_loss: 0.9077 - val_sparse_categorical_accuracy: 0.5835\n",
      "Epoch 2/100\n",
      "171/171 [==============================] - 3s 15ms/step - loss: 0.8436 - sparse_categorical_accuracy: 0.6064 - val_loss: 0.8956 - val_sparse_categorical_accuracy: 0.5719\n",
      "Epoch 3/100\n",
      "171/171 [==============================] - 2s 14ms/step - loss: 0.6330 - sparse_categorical_accuracy: 0.7495 - val_loss: 1.0498 - val_sparse_categorical_accuracy: 0.5174\n",
      "Epoch 4/100\n",
      "171/171 [==============================] - 3s 15ms/step - loss: 0.4094 - sparse_categorical_accuracy: 0.8493 - val_loss: 1.1028 - val_sparse_categorical_accuracy: 0.5174\n",
      "34/34 [==============================] - 0s 7ms/step - loss: 1.1721 - sparse_categorical_accuracy: 0.4981\n"
     ]
    },
    {
     "data": {
      "text/plain": [
       "[1.1721471548080444, 0.4981273412704468]"
      ]
     },
     "execution_count": 413,
     "metadata": {},
     "output_type": "execute_result"
    }
   ],
   "source": [
    "model1.compile(loss=\"sparse_categorical_crossentropy\", optimizer=\"adam\", metrics=[\"sparse_categorical_accuracy\"])\n",
    "\n",
    "model1.fit(\n",
    "    np.array(X_train),\n",
    "    y_train,\n",
    "    batch_size=32,\n",
    "    epochs=100,\n",
    "    callbacks=[EarlyStopping(patience=2,monitor=\"val_loss\")],\n",
    "    validation_split=0.1\n",
    ")\n",
    "\n",
    "model1.evaluate(np.array(X_test), y_test)"
   ]
  },
  {
   "cell_type": "markdown",
   "id": "67aed903",
   "metadata": {},
   "source": [
    "# LSTM"
   ]
  },
  {
   "cell_type": "code",
   "execution_count": 414,
   "id": "3882be07",
   "metadata": {},
   "outputs": [
    {
     "name": "stdout",
     "output_type": "stream",
     "text": [
      "Model: \"sequential_74\"\n",
      "_________________________________________________________________\n",
      " Layer (type)                Output Shape              Param #   \n",
      "=================================================================\n",
      " text_vectorization_26 (Text  (None, 40)               0         \n",
      " Vectorization)                                                  \n",
      "                                                                 \n",
      " embedding_73 (Embedding)    (None, 40, 25)            125000    \n",
      "                                                                 \n",
      " lstm_25 (LSTM)              (None, 32)                7424      \n",
      "                                                                 \n",
      " dense_84 (Dense)            (None, 3)                 99        \n",
      "                                                                 \n",
      "=================================================================\n",
      "Total params: 132,523\n",
      "Trainable params: 132,523\n",
      "Non-trainable params: 0\n",
      "_________________________________________________________________\n",
      "None\n"
     ]
    }
   ],
   "source": [
    "model2 = Sequential()\n",
    "model2.add(vectorize_layer)\n",
    "model2.add(Embedding(vocab_size, 25))\n",
    "model2.add(LSTM(32))\n",
    "model2.add(Dense(3, activation=\"softmax\"))\n",
    "\n",
    "print(model2.summary())"
   ]
  },
  {
   "cell_type": "code",
   "execution_count": 415,
   "id": "eeeabbb7",
   "metadata": {},
   "outputs": [
    {
     "name": "stdout",
     "output_type": "stream",
     "text": [
      "Epoch 1/100\n",
      "171/171 [==============================] - 7s 26ms/step - loss: 0.9322 - sparse_categorical_accuracy: 0.5507 - val_loss: 0.8773 - val_sparse_categorical_accuracy: 0.5769\n",
      "Epoch 2/100\n",
      "171/171 [==============================] - 4s 21ms/step - loss: 0.8273 - sparse_categorical_accuracy: 0.5970 - val_loss: 0.8474 - val_sparse_categorical_accuracy: 0.5950\n",
      "Epoch 3/100\n",
      "171/171 [==============================] - 4s 22ms/step - loss: 0.7386 - sparse_categorical_accuracy: 0.6588 - val_loss: 0.9176 - val_sparse_categorical_accuracy: 0.5471\n",
      "Epoch 4/100\n",
      "171/171 [==============================] - 4s 21ms/step - loss: 0.6459 - sparse_categorical_accuracy: 0.7234 - val_loss: 0.9805 - val_sparse_categorical_accuracy: 0.5686\n",
      "34/34 [==============================] - 0s 10ms/step - loss: 1.0075 - sparse_categorical_accuracy: 0.5581\n"
     ]
    },
    {
     "data": {
      "text/plain": [
       "[1.0075290203094482, 0.5580524206161499]"
      ]
     },
     "execution_count": 415,
     "metadata": {},
     "output_type": "execute_result"
    }
   ],
   "source": [
    "model2.compile(loss=\"sparse_categorical_crossentropy\", optimizer=\"adam\", metrics=[\"sparse_categorical_accuracy\"])\n",
    "\n",
    "model2.fit(\n",
    "    np.array(X_train),\n",
    "    y_train,\n",
    "    batch_size=32,\n",
    "    epochs=100,\n",
    "    callbacks=[EarlyStopping(patience=2,monitor=\"val_loss\")],\n",
    "    validation_split=0.1\n",
    ")\n",
    "\n",
    "model2.evaluate(np.array(X_test), y_test)"
   ]
  },
  {
   "cell_type": "markdown",
   "id": "2e0429f2",
   "metadata": {},
   "source": [
    "# Conv1D"
   ]
  },
  {
   "cell_type": "code",
   "execution_count": 420,
   "id": "d16361ab",
   "metadata": {},
   "outputs": [
    {
     "name": "stdout",
     "output_type": "stream",
     "text": [
      "Model: \"sequential_77\"\n",
      "_________________________________________________________________\n",
      " Layer (type)                Output Shape              Param #   \n",
      "=================================================================\n",
      " text_vectorization_26 (Text  (None, 40)               0         \n",
      " Vectorization)                                                  \n",
      "                                                                 \n",
      " embedding_76 (Embedding)    (None, 40, 25)            125000    \n",
      "                                                                 \n",
      " conv1d_47 (Conv1D)          (None, 36, 8)             1008      \n",
      "                                                                 \n",
      " global_max_pooling1d_39 (Gl  (None, 8)                0         \n",
      " obalMaxPooling1D)                                               \n",
      "                                                                 \n",
      " dense_89 (Dense)            (None, 3)                 27        \n",
      "                                                                 \n",
      "=================================================================\n",
      "Total params: 126,035\n",
      "Trainable params: 126,035\n",
      "Non-trainable params: 0\n",
      "_________________________________________________________________\n",
      "None\n"
     ]
    }
   ],
   "source": [
    "model3 = Sequential()\n",
    "model3.add(vectorize_layer)\n",
    "model3.add(Embedding(vocab_size, 25))\n",
    "model3.add(Conv1D(8, kernel_size=5))\n",
    "model3.add(GlobalMaxPooling1D())\n",
    "model3.add(Dense(3, activation=\"softmax\"))\n",
    "\n",
    "print(model3.summary())"
   ]
  },
  {
   "cell_type": "code",
   "execution_count": 421,
   "id": "794dca60",
   "metadata": {},
   "outputs": [
    {
     "name": "stdout",
     "output_type": "stream",
     "text": [
      "Epoch 1/100\n",
      "171/171 [==============================] - 2s 10ms/step - loss: 0.9957 - sparse_categorical_accuracy: 0.4842 - val_loss: 0.9026 - val_sparse_categorical_accuracy: 0.5868\n",
      "Epoch 2/100\n",
      "171/171 [==============================] - 1s 8ms/step - loss: 0.8753 - sparse_categorical_accuracy: 0.5779 - val_loss: 0.8774 - val_sparse_categorical_accuracy: 0.5835\n",
      "Epoch 3/100\n",
      "171/171 [==============================] - 1s 8ms/step - loss: 0.8077 - sparse_categorical_accuracy: 0.6086 - val_loss: 0.8637 - val_sparse_categorical_accuracy: 0.5818\n",
      "Epoch 4/100\n",
      "171/171 [==============================] - 1s 8ms/step - loss: 0.7143 - sparse_categorical_accuracy: 0.6891 - val_loss: 0.8881 - val_sparse_categorical_accuracy: 0.5835\n",
      "Epoch 5/100\n",
      "171/171 [==============================] - 1s 8ms/step - loss: 0.6105 - sparse_categorical_accuracy: 0.7560 - val_loss: 0.9135 - val_sparse_categorical_accuracy: 0.5736\n",
      "34/34 [==============================] - 0s 6ms/step - loss: 0.9484 - sparse_categorical_accuracy: 0.5487\n"
     ]
    },
    {
     "data": {
      "text/plain": [
       "[0.9483864903450012, 0.5486891269683838]"
      ]
     },
     "execution_count": 421,
     "metadata": {},
     "output_type": "execute_result"
    }
   ],
   "source": [
    "model3.compile(loss=\"sparse_categorical_crossentropy\", optimizer=\"adam\", metrics=[\"sparse_categorical_accuracy\"])\n",
    "\n",
    "model3.fit(\n",
    "    np.array(X_train),\n",
    "    y_train,\n",
    "    batch_size=32,\n",
    "    epochs=100,\n",
    "    callbacks=[EarlyStopping(patience=2,monitor=\"val_loss\")],\n",
    "    validation_split=0.1\n",
    ")\n",
    "\n",
    "model3.evaluate(np.array(X_test), y_test)"
   ]
  },
  {
   "cell_type": "markdown",
   "id": "82f2ae49",
   "metadata": {},
   "source": [
    "We can see that the best score is for LSTM."
   ]
  }
 ],
 "metadata": {
  "kernelspec": {
   "display_name": "Python 3 (ipykernel)",
   "language": "python",
   "name": "python3"
  },
  "language_info": {
   "codemirror_mode": {
    "name": "ipython",
    "version": 3
   },
   "file_extension": ".py",
   "mimetype": "text/x-python",
   "name": "python",
   "nbconvert_exporter": "python",
   "pygments_lexer": "ipython3",
   "version": "3.9.5"
  },
  "toc": {
   "base_numbering": 1,
   "nav_menu": {},
   "number_sections": true,
   "sideBar": true,
   "skip_h1_title": true,
   "title_cell": "Table of Contents",
   "title_sidebar": "Contents",
   "toc_cell": false,
   "toc_position": {},
   "toc_section_display": true,
   "toc_window_display": false
  },
  "varInspector": {
   "cols": {
    "lenName": 16,
    "lenType": 16,
    "lenVar": 40
   },
   "kernels_config": {
    "python": {
     "delete_cmd_postfix": "",
     "delete_cmd_prefix": "del ",
     "library": "var_list.py",
     "varRefreshCmd": "print(var_dic_list())"
    },
    "r": {
     "delete_cmd_postfix": ") ",
     "delete_cmd_prefix": "rm(",
     "library": "var_list.r",
     "varRefreshCmd": "cat(var_dic_list()) "
    }
   },
   "types_to_exclude": [
    "module",
    "function",
    "builtin_function_or_method",
    "instance",
    "_Feature"
   ],
   "window_display": false
  }
 },
 "nbformat": 4,
 "nbformat_minor": 5
}
