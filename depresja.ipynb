{
 "cells": [
  {
   "cell_type": "markdown",
   "id": "51309a08",
   "metadata": {},
   "source": [
    "# Detecting signs of depression in Social Media"
   ]
  },
  {
   "cell_type": "markdown",
   "id": "b60b8351",
   "metadata": {},
   "source": [
    "## About Data Set and depression\n",
    "\n",
    "This project is based on data set created by: \n",
    "S Kayalvizhi and D Thenmozhi in 2022. Paper: \"Data set creation and empirical analysis for detecting signs of depression from social media postings.\"\n",
    "Data set was collected from Reddit archives of subreddits groups like: Mental Health, depression, loneliness, stress, anxiety. Data were pre-processed by removing the non-ASCII characters and emoticons to get a clean data set.  The collected postings data were annotated by two domain experts into three labels: “Not depressed, Moderate and Severe\".\n",
    "\n",
    "“Not Depressed\" was annotade when data reflect one of the following mannerism:\n",
    "- If the statements have only one or two lines about irrelevant topics. \n",
    "- If the statements reflect momentary feelings of present situation.\n",
    "- If the statements are about asking questions about any or medication \n",
    "- If the statement is about ask/seek help for friend’s difficulties.\n",
    "\n",
    "“Moderately depressed\" was annotade when data falls under these conditions:\n",
    "- If the statements reflect change in feelings (feeling low for some time and feeling better for some time). \n",
    "- If the statement shows that they aren’t feeling completely immersed in any situations\n",
    "- If the statements show that they have hope for life.\n",
    "\n",
    "“Severely depressed\" was annotade when data have one of the following scenarios:\n",
    "- If the statements express more than one disorder conditions. \n",
    "- If the statements explain about history of suicide attempts.\n",
    "\n",
    "Because deppression can be diagnosed only by clinician expert using questionaries, clinical interwiev, patient observation and other technics, this annotation as depressed and moderately depressed cannot be treated as diagnosis. It is just assumption that user has signs of depression based on his/her declaration. \n",
    "\n",
    "**So what added value could be for such project?**\n",
    "In my opinion value could be sygnificant:\n",
    "Machine learning model could very fast detect sighns which looks like depression and could target such user with some information: for example sending them information about local clinicians, sending information about free help, invite to some neerest places for diagnosis, propose conversation with dedicated chatbot or specialist. \n",
    "Depression is higly corellated with suicidality and it could be far-fetched assumption but it can save someones live ."
   ]
  },
  {
   "cell_type": "markdown",
   "id": "cf490469",
   "metadata": {},
   "source": [
    "Let's start with importing all needed libraries"
   ]
  },
  {
   "cell_type": "code",
   "execution_count": 1,
   "id": "802775f5",
   "metadata": {},
   "outputs": [],
   "source": [
    "import pandas as pd\n",
    "import numpy as np\n",
    "import seaborn as sns\n",
    "import matplotlib.pyplot as plt\n",
    "from wordcloud import WordCloud\n",
    "from collections import Counter\n",
    "\n",
    "from sklearn.model_selection import train_test_split, GridSearchCV\n",
    "from sklearn.feature_extraction.text import CountVectorizer, TfidfVectorizer\n",
    "from sklearn.pipeline import make_pipeline, Pipeline\n",
    "\n",
    "import nltk\n",
    "from nltk.tokenize import word_tokenize\n",
    "from nltk.tokenize.casual import casual_tokenize\n",
    "from nltk.stem import WordNetLemmatizer, PorterStemmer\n",
    "from nltk.corpus import stopwords\n",
    "\n",
    "from sklearn.linear_model import LogisticRegression\n",
    "from sklearn.tree import DecisionTreeClassifier\n",
    "from sklearn.naive_bayes import MultinomialNB\n",
    "from sklearn.svm import SVC\n",
    "from sklearn.neighbors import KNeighborsClassifier\n",
    "from xgboost.sklearn import XGBClassifier\n",
    "from sklearn.ensemble import RandomForestClassifier\n",
    "\n",
    "from sklearn.metrics import precision_score, recall_score, f1_score, classification_report"
   ]
  },
  {
   "cell_type": "markdown",
   "id": "ad0b0950",
   "metadata": {},
   "source": [
    "# Data preparation"
   ]
  },
  {
   "cell_type": "markdown",
   "id": "009dbb82",
   "metadata": {},
   "source": [
    "Data set was stored in 3 files: train, dev and test. Test data did not have labels (because it was competition data to see competitors scores) so train and dev was concatenated to have one data set.\n",
    "Let's see the data."
   ]
  },
  {
   "cell_type": "code",
   "execution_count": 2,
   "id": "8ead1ca9",
   "metadata": {},
   "outputs": [],
   "source": [
    "df1 = pd.read_csv('train.tsv', sep='\\t')\n",
    "df2 = pd.read_csv('dev.tsv', sep='\\t') "
   ]
  },
  {
   "cell_type": "code",
   "execution_count": 3,
   "id": "73d73024",
   "metadata": {},
   "outputs": [
    {
     "data": {
      "text/html": [
       "<div>\n",
       "<style scoped>\n",
       "    .dataframe tbody tr th:only-of-type {\n",
       "        vertical-align: middle;\n",
       "    }\n",
       "\n",
       "    .dataframe tbody tr th {\n",
       "        vertical-align: top;\n",
       "    }\n",
       "\n",
       "    .dataframe thead th {\n",
       "        text-align: right;\n",
       "    }\n",
       "</style>\n",
       "<table border=\"1\" class=\"dataframe\">\n",
       "  <thead>\n",
       "    <tr style=\"text-align: right;\">\n",
       "      <th></th>\n",
       "      <th>PID</th>\n",
       "      <th>Text_data</th>\n",
       "      <th>Label</th>\n",
       "    </tr>\n",
       "  </thead>\n",
       "  <tbody>\n",
       "    <tr>\n",
       "      <th>0</th>\n",
       "      <td>train_pid_1</td>\n",
       "      <td>Waiting for my mind to have a breakdown once t...</td>\n",
       "      <td>moderate</td>\n",
       "    </tr>\n",
       "    <tr>\n",
       "      <th>1</th>\n",
       "      <td>train_pid_2</td>\n",
       "      <td>My new years resolution : I'm gonna get my ass...</td>\n",
       "      <td>moderate</td>\n",
       "    </tr>\n",
       "    <tr>\n",
       "      <th>2</th>\n",
       "      <td>train_pid_3</td>\n",
       "      <td>New year : Somone else Feeling like 2020 will ...</td>\n",
       "      <td>moderate</td>\n",
       "    </tr>\n",
       "    <tr>\n",
       "      <th>3</th>\n",
       "      <td>train_pid_4</td>\n",
       "      <td>My story I guess : Hi, Im from Germany and my ...</td>\n",
       "      <td>moderate</td>\n",
       "    </tr>\n",
       "    <tr>\n",
       "      <th>4</th>\n",
       "      <td>train_pid_5</td>\n",
       "      <td>Sat in the dark and cried myself going into th...</td>\n",
       "      <td>moderate</td>\n",
       "    </tr>\n",
       "  </tbody>\n",
       "</table>\n",
       "</div>"
      ],
      "text/plain": [
       "           PID                                          Text_data     Label\n",
       "0  train_pid_1  Waiting for my mind to have a breakdown once t...  moderate\n",
       "1  train_pid_2  My new years resolution : I'm gonna get my ass...  moderate\n",
       "2  train_pid_3  New year : Somone else Feeling like 2020 will ...  moderate\n",
       "3  train_pid_4  My story I guess : Hi, Im from Germany and my ...  moderate\n",
       "4  train_pid_5  Sat in the dark and cried myself going into th...  moderate"
      ]
     },
     "execution_count": 3,
     "metadata": {},
     "output_type": "execute_result"
    }
   ],
   "source": [
    "df1.head()"
   ]
  },
  {
   "cell_type": "code",
   "execution_count": 4,
   "id": "80f7f9ae",
   "metadata": {
    "scrolled": true
   },
   "outputs": [
    {
     "data": {
      "text/html": [
       "<div>\n",
       "<style scoped>\n",
       "    .dataframe tbody tr th:only-of-type {\n",
       "        vertical-align: middle;\n",
       "    }\n",
       "\n",
       "    .dataframe tbody tr th {\n",
       "        vertical-align: top;\n",
       "    }\n",
       "\n",
       "    .dataframe thead th {\n",
       "        text-align: right;\n",
       "    }\n",
       "</style>\n",
       "<table border=\"1\" class=\"dataframe\">\n",
       "  <thead>\n",
       "    <tr style=\"text-align: right;\">\n",
       "      <th></th>\n",
       "      <th>PID</th>\n",
       "      <th>Text data</th>\n",
       "      <th>Label</th>\n",
       "    </tr>\n",
       "  </thead>\n",
       "  <tbody>\n",
       "    <tr>\n",
       "      <th>0</th>\n",
       "      <td>dev_pid_1</td>\n",
       "      <td>I enjoyed today, and I still am! Tomorrows dep...</td>\n",
       "      <td>moderate</td>\n",
       "    </tr>\n",
       "    <tr>\n",
       "      <th>1</th>\n",
       "      <td>dev_pid_2</td>\n",
       "      <td>I sorta tried to kill myself : I had a total b...</td>\n",
       "      <td>moderate</td>\n",
       "    </tr>\n",
       "    <tr>\n",
       "      <th>2</th>\n",
       "      <td>dev_pid_3</td>\n",
       "      <td>Best suicide method? : I like it quick and eas...</td>\n",
       "      <td>moderate</td>\n",
       "    </tr>\n",
       "    <tr>\n",
       "      <th>3</th>\n",
       "      <td>dev_pid_4</td>\n",
       "      <td>a story : I remember the time I'd get on my 3D...</td>\n",
       "      <td>moderate</td>\n",
       "    </tr>\n",
       "    <tr>\n",
       "      <th>4</th>\n",
       "      <td>dev_pid_5</td>\n",
       "      <td>The world only cares about beautiful people : ...</td>\n",
       "      <td>moderate</td>\n",
       "    </tr>\n",
       "  </tbody>\n",
       "</table>\n",
       "</div>"
      ],
      "text/plain": [
       "         PID                                          Text data     Label\n",
       "0  dev_pid_1  I enjoyed today, and I still am! Tomorrows dep...  moderate\n",
       "1  dev_pid_2  I sorta tried to kill myself : I had a total b...  moderate\n",
       "2  dev_pid_3  Best suicide method? : I like it quick and eas...  moderate\n",
       "3  dev_pid_4  a story : I remember the time I'd get on my 3D...  moderate\n",
       "4  dev_pid_5  The world only cares about beautiful people : ...  moderate"
      ]
     },
     "execution_count": 4,
     "metadata": {},
     "output_type": "execute_result"
    }
   ],
   "source": [
    "df2.head()"
   ]
  },
  {
   "cell_type": "markdown",
   "id": "c4ef1717",
   "metadata": {},
   "source": [
    "We have different labels name and column PID is not necessary."
   ]
  },
  {
   "cell_type": "code",
   "execution_count": 5,
   "id": "15296421",
   "metadata": {},
   "outputs": [
    {
     "data": {
      "text/html": [
       "<div>\n",
       "<style scoped>\n",
       "    .dataframe tbody tr th:only-of-type {\n",
       "        vertical-align: middle;\n",
       "    }\n",
       "\n",
       "    .dataframe tbody tr th {\n",
       "        vertical-align: top;\n",
       "    }\n",
       "\n",
       "    .dataframe thead th {\n",
       "        text-align: right;\n",
       "    }\n",
       "</style>\n",
       "<table border=\"1\" class=\"dataframe\">\n",
       "  <thead>\n",
       "    <tr style=\"text-align: right;\">\n",
       "      <th></th>\n",
       "      <th>Text_data</th>\n",
       "      <th>Label</th>\n",
       "    </tr>\n",
       "  </thead>\n",
       "  <tbody>\n",
       "    <tr>\n",
       "      <th>0</th>\n",
       "      <td>Waiting for my mind to have a breakdown once t...</td>\n",
       "      <td>moderate</td>\n",
       "    </tr>\n",
       "    <tr>\n",
       "      <th>1</th>\n",
       "      <td>My new years resolution : I'm gonna get my ass...</td>\n",
       "      <td>moderate</td>\n",
       "    </tr>\n",
       "    <tr>\n",
       "      <th>2</th>\n",
       "      <td>New year : Somone else Feeling like 2020 will ...</td>\n",
       "      <td>moderate</td>\n",
       "    </tr>\n",
       "    <tr>\n",
       "      <th>3</th>\n",
       "      <td>My story I guess : Hi, Im from Germany and my ...</td>\n",
       "      <td>moderate</td>\n",
       "    </tr>\n",
       "    <tr>\n",
       "      <th>4</th>\n",
       "      <td>Sat in the dark and cried myself going into th...</td>\n",
       "      <td>moderate</td>\n",
       "    </tr>\n",
       "  </tbody>\n",
       "</table>\n",
       "</div>"
      ],
      "text/plain": [
       "                                           Text_data     Label\n",
       "0  Waiting for my mind to have a breakdown once t...  moderate\n",
       "1  My new years resolution : I'm gonna get my ass...  moderate\n",
       "2  New year : Somone else Feeling like 2020 will ...  moderate\n",
       "3  My story I guess : Hi, Im from Germany and my ...  moderate\n",
       "4  Sat in the dark and cried myself going into th...  moderate"
      ]
     },
     "execution_count": 5,
     "metadata": {},
     "output_type": "execute_result"
    }
   ],
   "source": [
    "df2.rename({'Text data': 'Text_data'}, inplace=True, axis='columns')\n",
    "df = pd.concat([df1, df2], ignore_index=True)\n",
    "df.drop([\"PID\"], axis=1, inplace=True)\n",
    "df.head()"
   ]
  },
  {
   "cell_type": "code",
   "execution_count": 6,
   "id": "b68b29bb",
   "metadata": {},
   "outputs": [
    {
     "data": {
      "text/plain": [
       "(13387, 2)"
      ]
     },
     "execution_count": 6,
     "metadata": {},
     "output_type": "execute_result"
    }
   ],
   "source": [
    "df.shape"
   ]
  },
  {
   "cell_type": "code",
   "execution_count": 7,
   "id": "4a117a9b",
   "metadata": {},
   "outputs": [
    {
     "name": "stdout",
     "output_type": "stream",
     "text": [
      "<class 'pandas.core.frame.DataFrame'>\n",
      "RangeIndex: 13387 entries, 0 to 13386\n",
      "Data columns (total 2 columns):\n",
      " #   Column     Non-Null Count  Dtype \n",
      "---  ------     --------------  ----- \n",
      " 0   Text_data  13387 non-null  object\n",
      " 1   Label      13387 non-null  object\n",
      "dtypes: object(2)\n",
      "memory usage: 209.3+ KB\n"
     ]
    }
   ],
   "source": [
    "df.info()"
   ]
  },
  {
   "cell_type": "markdown",
   "id": "7baf4b71",
   "metadata": {},
   "source": [
    "We can see we have 13387 rows and 2 columns. All data are in string format (object dtype). \n",
    "Let's see if we have duplicates."
   ]
  },
  {
   "cell_type": "code",
   "execution_count": 8,
   "id": "98dd42ec",
   "metadata": {},
   "outputs": [],
   "source": [
    "df.drop_duplicates(inplace=True, ignore_index=True)"
   ]
  },
  {
   "cell_type": "code",
   "execution_count": 9,
   "id": "2d6a5ca2",
   "metadata": {},
   "outputs": [
    {
     "data": {
      "text/plain": [
       "(7115, 2)"
      ]
     },
     "execution_count": 9,
     "metadata": {},
     "output_type": "execute_result"
    }
   ],
   "source": [
    "df.shape"
   ]
  },
  {
   "cell_type": "markdown",
   "id": "3361de71",
   "metadata": {},
   "source": [
    "There are a lot of duplcates, all were deleted."
   ]
  },
  {
   "cell_type": "markdown",
   "id": "5813853b",
   "metadata": {},
   "source": [
    "# Data exploration"
   ]
  },
  {
   "cell_type": "markdown",
   "id": "0f5e66f2",
   "metadata": {},
   "source": [
    "Let's see how target is distributed in data."
   ]
  },
  {
   "cell_type": "code",
   "execution_count": 10,
   "id": "599b64e6",
   "metadata": {},
   "outputs": [
    {
     "data": {
      "text/plain": [
       "moderate          3611\n",
       "not depression    2742\n",
       "severe             762\n",
       "Name: Label, dtype: int64"
      ]
     },
     "execution_count": 10,
     "metadata": {},
     "output_type": "execute_result"
    }
   ],
   "source": [
    "df['Label'].value_counts()"
   ]
  },
  {
   "cell_type": "code",
   "execution_count": 11,
   "id": "ce8fe806",
   "metadata": {},
   "outputs": [
    {
     "data": {
      "image/png": "[encoded data removed]",
      "text/plain": [
       "<Figure size 432x288 with 1 Axes>"
      ]
     },
     "metadata": {
      "needs_background": "light"
     },
     "output_type": "display_data"
    }
   ],
   "source": [
    "sns.barplot(x=df['Label'].value_counts().index, y=df['Label'].value_counts().values)\n",
    "plt.title(\"Target distribution in data\", fontsize=12)\n",
    "plt.show()"
   ]
  },
  {
   "cell_type": "markdown",
   "id": "29a9bd57",
   "metadata": {},
   "source": [
    "Most rows are labeled as moderate depression(3611), on second place we have not depresion (2746) and the fewest: severe depression (762).\n",
    "For this classification case we need to have labels 0, 1 and 2, because for some classifiers it is mandatory. To simulate intensivity of depression target will be changed as below:"
   ]
  },
  {
   "cell_type": "code",
   "execution_count": 12,
   "id": "5a29e60c",
   "metadata": {},
   "outputs": [],
   "source": [
    "df[\"Label\"].replace({\"not depression\": 0, \"moderate\": 1, \"severe\": 2}, inplace=True)"
   ]
  },
  {
   "cell_type": "markdown",
   "id": "fd7b829f",
   "metadata": {},
   "source": [
    "Let's check what words are mostly used for severe, moderately and not depressed users. Will choose casual tokenizer which is dedicated for social media. We will also add lematizaion (it will find base of the word, not removing/replacing word suffixes as in stemming) and delete english stop words. "
   ]
  },
  {
   "cell_type": "code",
   "execution_count": 13,
   "id": "bc146b2e",
   "metadata": {},
   "outputs": [],
   "source": [
    "text_data_severe = df[df[\"Label\"]==2][\"Text_data\"]\n",
    "text_data_moderate = df[df[\"Label\"]==1][\"Text_data\"]\n",
    "text_data_not_depressed = df[df[\"Label\"]==0][\"Text_data\"]"
   ]
  },
  {
   "cell_type": "code",
   "execution_count": 14,
   "id": "9344137a",
   "metadata": {
    "scrolled": true
   },
   "outputs": [
    {
     "data": {
      "text/plain": [
       "599     Falling in love with depression and OCD. Anoth...\n",
       "608     I’m so empty : I wake up to the malevolent gla...\n",
       "609     I can't kill myself because of my parents : I ...\n",
       "616     Feeling numb. : Okay this is my first post, ap...\n",
       "639     I can't do this anymore. : I have several ment...\n",
       "                              ...                        \n",
       "7110    Aren’t we all just tired? : I’ve been depresse...\n",
       "7111    NEED HELP COPING : I had my life pretty much f...\n",
       "7112    Qutting Zoloft Cold Turkey : I was on 75 mg se...\n",
       "7113    Crying : I’m coming off my antidepressants and...\n",
       "7114    Seeking for advice on how to overcome and deal...\n",
       "Name: Text_data, Length: 762, dtype: object"
      ]
     },
     "execution_count": 14,
     "metadata": {},
     "output_type": "execute_result"
    }
   ],
   "source": [
    "text_data_severe"
   ]
  },
  {
   "cell_type": "code",
   "execution_count": 15,
   "id": "4e1cca56",
   "metadata": {
    "scrolled": true
   },
   "outputs": [
    {
     "data": {
      "text/plain": [
       "0       Waiting for my mind to have a breakdown once t...\n",
       "1       My new years resolution : I'm gonna get my ass...\n",
       "2       New year : Somone else Feeling like 2020 will ...\n",
       "3       My story I guess : Hi, Im from Germany and my ...\n",
       "4       Sat in the dark and cried myself going into th...\n",
       "                              ...                        \n",
       "4981    Lockdown has made so depressed : Help me, I fe...\n",
       "4982    Am i just being dramatic? Do i really feel thi...\n",
       "4983    Just another day of dealing with Depression. J...\n",
       "4984    I just want to vent a bit, nothing special ple...\n",
       "4985    Shit fucking day : Having the shittest day, do...\n",
       "Name: Text_data, Length: 3611, dtype: object"
      ]
     },
     "execution_count": 15,
     "metadata": {},
     "output_type": "execute_result"
    }
   ],
   "source": [
    "text_data_moderate"
   ]
  },
  {
   "cell_type": "code",
   "execution_count": 16,
   "id": "8da84c2c",
   "metadata": {},
   "outputs": [
    {
     "data": {
      "text/plain": [
       "597     i lost my virginity and 5 mins later my gf sai...\n",
       "600     This is a question that gives me SO MUCH anxie...\n",
       "601     Insecurities, fuck em. : I constantly feel lik...\n",
       "602     i came here in reddit to be entertained. now i...\n",
       "603     Empty : I wanted to have friends. People to sh...\n",
       "                              ...                        \n",
       "6770    I never feel like I'm enough and I can't get m...\n",
       "6771    Just want to talk to someone real : I find mys...\n",
       "6772    on the verge of tears but no real reason to cr...\n",
       "6773    admitting to myself to the hospital tomorrow :...\n",
       "6774    Does anyone else hate it when people say \"You ...\n",
       "Name: Text_data, Length: 2742, dtype: object"
      ]
     },
     "execution_count": 16,
     "metadata": {},
     "output_type": "execute_result"
    }
   ],
   "source": [
    "text_data_not_depressed"
   ]
  },
  {
   "cell_type": "markdown",
   "id": "b8a5d896",
   "metadata": {},
   "source": [
    "I will prepare function for finding most common words from all type users."
   ]
  },
  {
   "cell_type": "code",
   "execution_count": 17,
   "id": "75959a52",
   "metadata": {},
   "outputs": [],
   "source": [
    "stop_words = stopwords.words('english') \n",
    "wl = WordNetLemmatizer()\n",
    "\n",
    "def count_words(data):\n",
    "    '''\n",
    "    Return counted words from data using stop words, casual tokenizer and lematizer\n",
    "    \n",
    "    :param data: DataFrame with data\n",
    "    \n",
    "    :return: list with counted words\n",
    "    '''\n",
    "    \n",
    "    casual_tekenizer_lists = [casual_tokenize(post) for post in data]\n",
    "    casual_tekenizer = list(np.concatenate(casual_tekenizer_lists).flat)\n",
    "    without_stop_words = [word for word in casual_tekenizer if word.lower() not in stop_words and word.isalpha()]\n",
    "    after_lem = [wl.lemmatize(word) for word in without_stop_words]\n",
    "    return Counter(after_lem)"
   ]
  },
  {
   "cell_type": "markdown",
   "id": "72d761f2",
   "metadata": {},
   "source": [
    "Let's check what are mostly used top 20 words in group with severe, moderate and without depression."
   ]
  },
  {
   "cell_type": "code",
   "execution_count": 18,
   "id": "fa8f3f6d",
   "metadata": {},
   "outputs": [
    {
     "name": "stdout",
     "output_type": "stream",
     "text": [
      "[('like', 1213), ('feel', 1200), ('want', 1073), ('get', 832), ('know', 820), ('time', 736), ('life', 704), ('year', 699), ('depression', 682), ('day', 622), ('even', 565), ('really', 555), ('thing', 526), ('friend', 518), ('go', 512), ('people', 503), ('would', 474), ('help', 443), ('one', 440), ('die', 433)]\n"
     ]
    }
   ],
   "source": [
    "count_severe_words = count_words(text_data_severe)\n",
    "top20_severe_words = count_severe_words.most_common(20)\n",
    "print(top20_severe_words)"
   ]
  },
  {
   "cell_type": "code",
   "execution_count": 19,
   "id": "d1f3cd9a",
   "metadata": {
    "scrolled": true
   },
   "outputs": [
    {
     "name": "stdout",
     "output_type": "stream",
     "text": [
      "[('like', 4745), ('feel', 4719), ('know', 3190), ('want', 3122), ('life', 2802), ('get', 2794), ('time', 2695), ('friend', 2227), ('even', 2200), ('year', 2160), ('thing', 2029), ('really', 2017), ('people', 2009), ('day', 1845), ('one', 1837), ('go', 1682), ('would', 1608), ('make', 1555), ('depression', 1516), ('think', 1492)]\n"
     ]
    }
   ],
   "source": [
    "count_moderate_words = count_words(text_data_moderate)\n",
    "top20_moderate_words = count_moderate_words.most_common(20)\n",
    "print(top20_moderate_words)"
   ]
  },
  {
   "cell_type": "code",
   "execution_count": 20,
   "id": "157fb231",
   "metadata": {},
   "outputs": [
    {
     "name": "stdout",
     "output_type": "stream",
     "text": [
      "[('like', 2141), ('feel', 2007), ('know', 1504), ('want', 1342), ('get', 1244), ('life', 1215), ('time', 1167), ('friend', 1066), ('people', 1057), ('really', 942), ('thing', 939), ('one', 937), ('even', 933), ('year', 891), ('day', 889), ('make', 778), ('go', 721), ('would', 711), ('think', 708), ('going', 680)]\n"
     ]
    }
   ],
   "source": [
    "count_not_depressed_words = count_words(text_data_not_depressed)\n",
    "top20_not_depressed_words = count_not_depressed_words.most_common(20)\n",
    "print(top20_not_depressed_words)"
   ]
  },
  {
   "cell_type": "markdown",
   "id": "90354d41",
   "metadata": {},
   "source": [
    "We can see that many words are the same in all groups: like, feel, know, want etc. We would like to see what words are specific for each group. But before we do this, let's visiualize how top 20 words are distributed on one group. For example for severly depressed."
   ]
  },
  {
   "cell_type": "code",
   "execution_count": 21,
   "id": "a8ca9a17",
   "metadata": {},
   "outputs": [
    {
     "data": {
      "image/png": "[encoded data removed]",
      "text/plain": [
       "<Figure size 1080x576 with 1 Axes>"
      ]
     },
     "metadata": {
      "needs_background": "light"
     },
     "output_type": "display_data"
    }
   ],
   "source": [
    "x_list_s20 = [x[0] for x in top20_severe_words]\n",
    "y_list_s20 = [x[1] for x in top20_severe_words]\n",
    "\n",
    "plt.figure(figsize=(15, 8))\n",
    "plt.title(\"Top 20 words for severe depression\", fontsize=15)\n",
    "plt.xlabel(\"Word\", fontsize=13)\n",
    "plt.ylabel(\"Total amount in all posts\", fontsize=13)\n",
    "plt.bar(x=x_list_s20, height=y_list_s20)\n",
    "plt.show()"
   ]
  },
  {
   "cell_type": "code",
   "execution_count": 22,
   "id": "75ca145c",
   "metadata": {},
   "outputs": [
    {
     "data": {
      "image/png": "[encoded data removed]",
      "text/plain": [
       "<Figure size 720x576 with 1 Axes>"
      ]
     },
     "metadata": {
      "needs_background": "light"
     },
     "output_type": "display_data"
    }
   ],
   "source": [
    "wc = WordCloud()\n",
    "wc.generate_from_frequencies(count_severe_words)\n",
    "plt.figure(figsize=(10, 8))\n",
    "plt.title(\"Top words in severe group\", fontsize=12)\n",
    "plt.imshow(wc)\n",
    "plt.axis('off')\n",
    "plt.show()"
   ]
  },
  {
   "cell_type": "markdown",
   "id": "5b80a843",
   "metadata": {},
   "source": [
    "We can see that three most popular words are: like, feel and want.\n",
    "<br>Now, let's check what words are used in all groups and what only in one of them (limited to 50 words)."
   ]
  },
  {
   "cell_type": "code",
   "execution_count": 23,
   "id": "0e5935d1",
   "metadata": {},
   "outputs": [],
   "source": [
    "top50_severe_words = count_severe_words.most_common(50)\n",
    "top50_moderate_words = count_moderate_words.most_common(50)\n",
    "top50_not_depressed_words = count_not_depressed_words.most_common(50)\n",
    "\n",
    "x_list_s50 = [x[0] for x in top50_severe_words]\n",
    "x_list_m50 = [x[0] for x in top50_moderate_words]\n",
    "x_list_n50 = [x[0] for x in top50_not_depressed_words]"
   ]
  },
  {
   "cell_type": "code",
   "execution_count": 24,
   "id": "c7374395",
   "metadata": {},
   "outputs": [
    {
     "name": "stdout",
     "output_type": "stream",
     "text": [
      "List of words which are present in all groups (limited to top 50 words):\n",
      "['like', 'feel', 'want', 'get', 'know', 'time', 'life', 'year', 'depression', 'day', 'even', 'really', 'thing', 'friend', 'go', 'people', 'would', 'help', 'one', 'think', 'going', 'make', 'much', 'thought', 'better', 'never', 'work', 'feeling', 'back', 'got', 'still', 'anything', 'school', 'way', 'anymore', 'could', 'something', 'good', 'always', 'everything']\n"
     ]
    }
   ],
   "source": [
    "words_in_all_groups = [x for x in x_list_s50 if x in x_list_m50 and x in x_list_n50]\n",
    "print(f\"List of words which are present in all groups (limited to top 50 words):\\n{words_in_all_groups}\")"
   ]
  },
  {
   "cell_type": "code",
   "execution_count": 25,
   "id": "8ed2146b",
   "metadata": {},
   "outputs": [
    {
     "name": "stdout",
     "output_type": "stream",
     "text": [
      "List of words which are present only in severe group (limited to top 50 words):\n",
      "['die', 'anxiety', 'month', 'since', 'bad', 'started', 'week', 'take']\n"
     ]
    }
   ],
   "source": [
    "words_only_in_severe50 = [x for x in x_list_s50 if x not in x_list_m50 and x not in x_list_n50]\n",
    "print(f\"List of words which are present only in severe group (limited to top 50 words):\\n{words_only_in_severe50}\")"
   ]
  },
  {
   "cell_type": "code",
   "execution_count": 26,
   "id": "b8182940",
   "metadata": {},
   "outputs": [
    {
     "name": "stdout",
     "output_type": "stream",
     "text": [
      "List of words which are present only in moderate group (limited to top 50 words):\n",
      "['hate', 'nothing', 'family', 'happy', 'fucking']\n"
     ]
    }
   ],
   "source": [
    "words_only_in_moderate50 = [x for x in x_list_m50 if x not in x_list_s50 and x not in x_list_n50]\n",
    "print(f\"List of words which are present only in moderate group (limited to top 50 words):\\n{words_only_in_moderate50}\")"
   ]
  },
  {
   "cell_type": "markdown",
   "id": "40032d6a",
   "metadata": {},
   "source": [
    "When we limited to 50 most common words it looks very interesting: only people with severe depression use words \"die\", \"anxiety\" etc, and for moderate depression: 'hate', 'nothing' etc. Let's see what it will look like when we expand it to 100 words."
   ]
  },
  {
   "cell_type": "code",
   "execution_count": 27,
   "id": "9eef75f2",
   "metadata": {},
   "outputs": [],
   "source": [
    "top100_severe_words = count_severe_words.most_common(100)\n",
    "top100_moderate_words = count_moderate_words.most_common(100)\n",
    "top100_not_depressed_words = count_not_depressed_words.most_common(100)\n",
    "\n",
    "x_list_s100 = [x[0] for x in top100_severe_words]\n",
    "x_list_m100 = [x[0] for x in top100_moderate_words]\n",
    "x_list_n100 = [x[0] for x in top100_not_depressed_words]"
   ]
  },
  {
   "cell_type": "code",
   "execution_count": 28,
   "id": "b5da5511",
   "metadata": {},
   "outputs": [
    {
     "name": "stdout",
     "output_type": "stream",
     "text": [
      "List of words which are present only in severe group (limited to top 100 words):\n",
      "['anxiety', 'medication', 'wanted', 'ago', 'therapy', 'past', 'stop', 'problem', 'went', 'mental', 'two']\n"
     ]
    }
   ],
   "source": [
    "words_only_in_severe100 = [x for x in x_list_s100 if x not in x_list_m100 and x not in x_list_n100]\n",
    "print(f\"List of words which are present only in severe group (limited to top 100 words):\\n{words_only_in_severe100}\")"
   ]
  },
  {
   "cell_type": "code",
   "execution_count": 29,
   "id": "72f4af77",
   "metadata": {},
   "outputs": [
    {
     "name": "stdout",
     "output_type": "stream",
     "text": [
      "List of words which are present only in moderate group (limited to top 100 words):\n",
      "['im', 'tired']\n"
     ]
    }
   ],
   "source": [
    "words_only_in_moderate100 = [x for x in x_list_m100 if x not in x_list_s100 and x not in x_list_n100]\n",
    "print(f\"List of words which are present only in moderate group (limited to top 100 words):\\n{words_only_in_moderate100}\")"
   ]
  },
  {
   "cell_type": "markdown",
   "id": "757a7012",
   "metadata": {},
   "source": [
    "Now it is more interesting. It looks like people only with moderate depression are writing about being tired on reddit(when we limit to 100 most common words)."
   ]
  },
  {
   "cell_type": "markdown",
   "id": "1c7ca335",
   "metadata": {},
   "source": [
    "# Baseline"
   ]
  },
  {
   "cell_type": "markdown",
   "id": "9a722552",
   "metadata": {},
   "source": [
    "Now, we will try to find best baseline vectorizer. At first let's split data to train and test"
   ]
  },
  {
   "cell_type": "code",
   "execution_count": 30,
   "id": "3ac5a91e",
   "metadata": {},
   "outputs": [],
   "source": [
    "X = df['Text_data']\n",
    "y = df['Label']\n",
    "X_train, X_test, y_train, y_test = train_test_split(X, y, test_size=0.3, random_state=123, stratify = y)"
   ]
  },
  {
   "cell_type": "markdown",
   "id": "bf8aee57",
   "metadata": {},
   "source": [
    "### CountVectorizer vs TFIDFVectorizer"
   ]
  },
  {
   "cell_type": "markdown",
   "id": "dde7dbfa",
   "metadata": {},
   "source": [
    "At first we will try to find baseline vectorizer. Let's see how f1 score (macro anf weighted) looks like for different vectorizes with different classification models."
   ]
  },
  {
   "cell_type": "code",
   "execution_count": 31,
   "id": "30955860",
   "metadata": {
    "scrolled": true
   },
   "outputs": [],
   "source": [
    "names = ['LogRegr', 'SupVecM', 'MulNomB', 'DecTree', 'RandFor', 'XGBoost']\n",
    "\n",
    "models = [LogisticRegression(max_iter=10000),\n",
    "              SVC(),\n",
    "              MultinomialNB(),\n",
    "              DecisionTreeClassifier(),\n",
    "              RandomForestClassifier(),\n",
    "              XGBClassifier()]\n",
    "\n",
    "\n",
    "def f1_macro_avg(model, X, y):\n",
    "    y_pred = model.predict(X)\n",
    "    return f1_score(y_true=y, y_pred=y_pred, average='macro')  \n",
    "\n",
    "\n",
    "def f1_weighted_avg(model, X, y):\n",
    "    y_pred = model.predict(X)\n",
    "    return f1_score(y_true=y, y_pred=y_pred, average='weighted')\n",
    "\n",
    "\n",
    "def get_performance(model, X, y):\n",
    "    return f\"F1 macro avg: {f1_macro_avg(model, X, y): .2f}, F1 weighted avg: {f1_weighted_avg(model, X, y): .2f} \"\n",
    "\n",
    "\n",
    "def basic_performance(vectorizer, names=names, models=models):\n",
    "\n",
    "    basic_performance = {}\n",
    "\n",
    "    for model, name in zip(models, names):\n",
    "        pipe = Pipeline([\n",
    "        ('vct', vectorizer),\n",
    "        (name ,model)\n",
    "        ])\n",
    "        pipe.fit(X_train, y_train)\n",
    "        performance = get_performance(pipe, X_test, y_test)\n",
    "        basic_performance[name] = performance\n",
    "    \n",
    "    return basic_performance"
   ]
  },
  {
   "cell_type": "code",
   "execution_count": 32,
   "id": "056a41ae",
   "metadata": {},
   "outputs": [],
   "source": [
    "basic_perf_countvectorizer = basic_performance(vectorizer=CountVectorizer())"
   ]
  },
  {
   "cell_type": "code",
   "execution_count": 33,
   "id": "8de4e404",
   "metadata": {},
   "outputs": [
    {
     "data": {
      "text/plain": [
       "{'LogRegr': 'F1 macro avg:  0.50, F1 weighted avg:  0.55 ',\n",
       " 'SupVecM': 'F1 macro avg:  0.42, F1 weighted avg:  0.56 ',\n",
       " 'MulNomB': 'F1 macro avg:  0.49, F1 weighted avg:  0.56 ',\n",
       " 'DecTree': 'F1 macro avg:  0.43, F1 weighted avg:  0.50 ',\n",
       " 'RandFor': 'F1 macro avg:  0.41, F1 weighted avg:  0.55 ',\n",
       " 'XGBoost': 'F1 macro avg:  0.49, F1 weighted avg:  0.58 '}"
      ]
     },
     "execution_count": 33,
     "metadata": {},
     "output_type": "execute_result"
    }
   ],
   "source": [
    "basic_perf_countvectorizer"
   ]
  },
  {
   "cell_type": "code",
   "execution_count": 34,
   "id": "8fe78f6e",
   "metadata": {},
   "outputs": [],
   "source": [
    "basic_perf_tfidfvectorizer = basic_performance(vectorizer=TfidfVectorizer())"
   ]
  },
  {
   "cell_type": "code",
   "execution_count": 35,
   "id": "2828b55a",
   "metadata": {},
   "outputs": [
    {
     "data": {
      "text/plain": [
       "{'LogRegr': 'F1 macro avg:  0.51, F1 weighted avg:  0.59 ',\n",
       " 'SupVecM': 'F1 macro avg:  0.48, F1 weighted avg:  0.59 ',\n",
       " 'MulNomB': 'F1 macro avg:  0.27, F1 weighted avg:  0.40 ',\n",
       " 'DecTree': 'F1 macro avg:  0.43, F1 weighted avg:  0.50 ',\n",
       " 'RandFor': 'F1 macro avg:  0.41, F1 weighted avg:  0.56 ',\n",
       " 'XGBoost': 'F1 macro avg:  0.52, F1 weighted avg:  0.60 '}"
      ]
     },
     "execution_count": 35,
     "metadata": {},
     "output_type": "execute_result"
    }
   ],
   "source": [
    "basic_perf_tfidfvectorizer"
   ]
  },
  {
   "cell_type": "markdown",
   "id": "c9e2bc32",
   "metadata": {},
   "source": [
    "We can see that F1 scores for countvectorizer are relatively constans in small range: \n",
    "<br>macro:&emsp;&emsp;0.41 - 0.50 \n",
    "<br>weighted: 0.51 - 0.58\n",
    "<br>\n",
    "<br>In TFIDFvectorizer F1 is in wider range but mostly higher than countvectorizer:\n",
    "<br>macro:&emsp;&emsp;0.27 - 0.52\n",
    "<br>weighted: 0.40 - 0.60\n",
    "<br>\n",
    "<br> Only MultiNomialNB has betther results in Countvectorizer than TFIDF, so for further hypertuning we will choose TFIDFvectorizer.\n",
    "<br>Now let's try to find what is better for TFIDFvectorizer performance Stemming or Lematization."
   ]
  },
  {
   "cell_type": "markdown",
   "id": "b2f629b2",
   "metadata": {},
   "source": [
    "### Stemming vs Lematization"
   ]
  },
  {
   "cell_type": "markdown",
   "id": "6869739c",
   "metadata": {},
   "source": [
    "For both normalizing methods we will delete stop words."
   ]
  },
  {
   "cell_type": "code",
   "execution_count": 36,
   "id": "da1a2647",
   "metadata": {},
   "outputs": [],
   "source": [
    "stop_w = set(stopwords.words('english'))\n",
    "\n",
    "class LemmaTokenizer:\n",
    "    \n",
    "    def __init__(self):\n",
    "        self.wnl = WordNetLemmatizer()\n",
    "        \n",
    "    def __call__(self, doc):\n",
    "        return [self.wnl.lemmatize(w) for w in casual_tokenize(doc) if w not in stop_w and w.isalnum()]\n",
    "\n",
    "\n",
    "class StemTokenizer:\n",
    "    \n",
    "    def __init__(self):\n",
    "        self.ps = PorterStemmer()\n",
    "\n",
    "    def __call__(self, doc):\n",
    "        return [self.ps.stem(w) for w in casual_tokenize(doc) if w not in stop_w and w.isalnum()]\n",
    "\n",
    "\n",
    "def performance_with_text_normalization(tokenizer, names=names, models=models):\n",
    "\n",
    "    basic_performance = {}\n",
    "\n",
    "    for model, name in zip(models, names):\n",
    "        pipe = Pipeline([\n",
    "        ('vct', TfidfVectorizer(tokenizer=tokenizer)),\n",
    "        (name ,model)\n",
    "        ])\n",
    "        pipe.fit(X_train, y_train)\n",
    "        performance = get_performance(pipe, X_test, y_test)\n",
    "        basic_performance[name] = performance\n",
    "    \n",
    "    return basic_performance"
   ]
  },
  {
   "cell_type": "code",
   "execution_count": 37,
   "id": "cb8ea254",
   "metadata": {
    "scrolled": true
   },
   "outputs": [],
   "source": [
    "basic_lema_perf = performance_with_text_normalization(LemmaTokenizer())"
   ]
  },
  {
   "cell_type": "code",
   "execution_count": 38,
   "id": "fa1f28d6",
   "metadata": {},
   "outputs": [
    {
     "data": {
      "text/plain": [
       "{'LogRegr': 'F1 macro avg:  0.51, F1 weighted avg:  0.58 ',\n",
       " 'SupVecM': 'F1 macro avg:  0.48, F1 weighted avg:  0.58 ',\n",
       " 'MulNomB': 'F1 macro avg:  0.28, F1 weighted avg:  0.41 ',\n",
       " 'DecTree': 'F1 macro avg:  0.43, F1 weighted avg:  0.50 ',\n",
       " 'RandFor': 'F1 macro avg:  0.42, F1 weighted avg:  0.56 ',\n",
       " 'XGBoost': 'F1 macro avg:  0.52, F1 weighted avg:  0.59 '}"
      ]
     },
     "execution_count": 38,
     "metadata": {},
     "output_type": "execute_result"
    }
   ],
   "source": [
    "basic_lema_perf"
   ]
  },
  {
   "cell_type": "code",
   "execution_count": 39,
   "id": "99f91c40",
   "metadata": {
    "scrolled": true
   },
   "outputs": [],
   "source": [
    "basic_stem_perf = performance_with_text_normalization(StemTokenizer())"
   ]
  },
  {
   "cell_type": "code",
   "execution_count": 40,
   "id": "23f3d471",
   "metadata": {},
   "outputs": [
    {
     "data": {
      "text/plain": [
       "{'LogRegr': 'F1 macro avg:  0.51, F1 weighted avg:  0.59 ',\n",
       " 'SupVecM': 'F1 macro avg:  0.49, F1 weighted avg:  0.58 ',\n",
       " 'MulNomB': 'F1 macro avg:  0.29, F1 weighted avg:  0.42 ',\n",
       " 'DecTree': 'F1 macro avg:  0.43, F1 weighted avg:  0.50 ',\n",
       " 'RandFor': 'F1 macro avg:  0.41, F1 weighted avg:  0.55 ',\n",
       " 'XGBoost': 'F1 macro avg:  0.49, F1 weighted avg:  0.58 '}"
      ]
     },
     "execution_count": 40,
     "metadata": {},
     "output_type": "execute_result"
    }
   ],
   "source": [
    "basic_stem_perf"
   ]
  },
  {
   "cell_type": "markdown",
   "id": "3962acea",
   "metadata": {},
   "source": [
    "We can see that there is no big difference between Stemmer and Lematizer, so we will choose lemmatizer because stemmer is more agressiv. \n",
    "<br> We can also see that the best three classificators are: LogisticRegression, SupportVectorMachines and XGBoost."
   ]
  },
  {
   "cell_type": "markdown",
   "id": "82bbf984",
   "metadata": {},
   "source": [
    "Summarizing, for baseline we will have TFIDF vectorizer with casual tokenizer, Lematizator without english stop words."
   ]
  },
  {
   "cell_type": "markdown",
   "id": "11ffcb87",
   "metadata": {},
   "source": [
    "# MODELING"
   ]
  },
  {
   "cell_type": "markdown",
   "id": "8371413a",
   "metadata": {},
   "source": [
    "Now, we are going to  look for best scores for three models: LogisticRegression, SupportVectorMachines and XGBoost. For every model we will have same steps as listed in below order:\n",
    "- create pipeline\n",
    "- define grip parameters for hypertuning\n",
    "- perform gridsearch and find best parameters\n",
    "- check scores for model baseli and with best parameters\n",
    "\n",
    "Let's prepare functions for those steps:"
   ]
  },
  {
   "cell_type": "code",
   "execution_count": 41,
   "id": "1c3cd0e5",
   "metadata": {},
   "outputs": [],
   "source": [
    "def create_pipeline(model, name):\n",
    "    '''\n",
    "    Create pipeline for defined classifier\n",
    "    \n",
    "    :param model: classification model\n",
    "    :param name (str): name for classification model\n",
    "    \n",
    "    :return: pipeline object\n",
    "    '''\n",
    "\n",
    "    pipe = Pipeline([\n",
    "        ('tfidf', TfidfVectorizer(tokenizer=LemmaTokenizer())),\n",
    "        (name ,model)\n",
    "        ])\n",
    "    \n",
    "    return pipe\n",
    "\n",
    "\n",
    "def find_best_estimator(pipe, params, cv = 3, X_train = X_train, y_train = y_train):\n",
    "    '''\n",
    "    Perform GridSearchCV to optimaze hyperparameters. Print best parameters and return model.\n",
    " \n",
    "    :param pipe: pipeline with classifier\n",
    "    :param params (dict): parameters grid\n",
    "    :param cv (int): number of folds in cross validation      \n",
    "    :param X_train (np, df, list): traning data without label column\n",
    "    :param y_train (np, df, list): only label column for training data\n",
    "    \n",
    "    :return: classification model with best parameters\n",
    "    '''\n",
    "    \n",
    "    gs = GridSearchCV(estimator = pipe, \n",
    "                      param_grid = params, \n",
    "                      cv = cv, \n",
    "                      n_jobs = -1, \n",
    "                      verbose = 1,\n",
    "                      scoring= 'f1_macro')\n",
    "    gs.fit(X_train,y_train)\n",
    "    print('Best parameters found: ')\n",
    "    print(gs.best_params_)\n",
    "    \n",
    "    return gs.best_estimator_\n",
    "\n",
    "\n",
    "def show_best_model_score(model, X_test = X_test, y_test = y_test):\n",
    "    '''\n",
    "    Print classification report.\n",
    " \n",
    "    :param model: fitted model with best parameters   \n",
    "    :param X_test (np, df, list): test data without label column\n",
    "    :param y_test (np, df, list): only label column for test data\n",
    "\n",
    "    '''\n",
    "    \n",
    "    y_pred = model.predict(X_test)\n",
    "    \n",
    "    print(classification_report(y_test, y_pred))"
   ]
  },
  {
   "cell_type": "markdown",
   "id": "4e54d135",
   "metadata": {},
   "source": [
    "### LogisticRegression"
   ]
  },
  {
   "cell_type": "code",
   "execution_count": 42,
   "id": "4d325a5d",
   "metadata": {},
   "outputs": [],
   "source": [
    "log_reg_pipeline = create_pipeline(LogisticRegression(max_iter=10000), 'log_reg')"
   ]
  },
  {
   "cell_type": "code",
   "execution_count": 43,
   "id": "68100731",
   "metadata": {},
   "outputs": [],
   "source": [
    "log_reg_param = {\n",
    " 'tfidf__max_features':[1000, 2000],\n",
    " 'tfidf__ngram_range': [(1, 1), (1, 2)],\n",
    " 'log_reg__penalty': ['l1', 'l2'],\n",
    " 'log_reg__solver': ['lbfgs', 'saga'],   \n",
    " 'log_reg__C': [10, 1, 0.1]\n",
    "}"
   ]
  },
  {
   "cell_type": "code",
   "execution_count": 44,
   "id": "2e4c8854",
   "metadata": {
    "scrolled": true
   },
   "outputs": [
    {
     "name": "stdout",
     "output_type": "stream",
     "text": [
      "Fitting 3 folds for each of 48 candidates, totalling 144 fits\n"
     ]
    },
    {
     "name": "stderr",
     "output_type": "stream",
     "text": [
      "/opt/homebrew/Cellar/jupyterlab/3.3.2/libexec/lib/python3.9/site-packages/sklearn/model_selection/_validation.py:378: FitFailedWarning: \n",
      "36 fits failed out of a total of 144.\n",
      "The score on these train-test partitions for these parameters will be set to nan.\n",
      "If these failures are not expected, you can try to debug them by setting error_score='raise'.\n",
      "\n",
      "Below are more details about the failures:\n",
      "--------------------------------------------------------------------------------\n",
      "36 fits failed with the following error:\n",
      "Traceback (most recent call last):\n",
      "  File \"/opt/homebrew/Cellar/jupyterlab/3.3.2/libexec/lib/python3.9/site-packages/sklearn/model_selection/_validation.py\", line 686, in _fit_and_score\n",
      "    estimator.fit(X_train, y_train, **fit_params)\n",
      "  File \"/opt/homebrew/Cellar/jupyterlab/3.3.2/libexec/lib/python3.9/site-packages/sklearn/pipeline.py\", line 382, in fit\n",
      "    self._final_estimator.fit(Xt, y, **fit_params_last_step)\n",
      "  File \"/opt/homebrew/Cellar/jupyterlab/3.3.2/libexec/lib/python3.9/site-packages/sklearn/linear_model/_logistic.py\", line 1091, in fit\n",
      "    solver = _check_solver(self.solver, self.penalty, self.dual)\n",
      "  File \"/opt/homebrew/Cellar/jupyterlab/3.3.2/libexec/lib/python3.9/site-packages/sklearn/linear_model/_logistic.py\", line 61, in _check_solver\n",
      "    raise ValueError(\n",
      "ValueError: Solver lbfgs supports only 'l2' or 'none' penalties, got l1 penalty.\n",
      "\n",
      "  warnings.warn(some_fits_failed_message, FitFailedWarning)\n",
      "/opt/homebrew/Cellar/jupyterlab/3.3.2/libexec/lib/python3.9/site-packages/sklearn/model_selection/_search.py:953: UserWarning: One or more of the test scores are non-finite: [       nan        nan        nan        nan 0.46108027 0.45828386\n",
      " 0.45613499 0.44583597 0.47376174 0.46822227 0.47025824 0.46198562\n",
      " 0.47349628 0.46775933 0.4699889  0.46091095        nan        nan\n",
      "        nan        nan 0.49466965 0.48743644 0.48986545 0.48613567\n",
      " 0.46890775 0.474447   0.46762049 0.46878629 0.46945209 0.47487366\n",
      " 0.46757349 0.46779887        nan        nan        nan        nan\n",
      " 0.31578711 0.31578711 0.31504943 0.31477612 0.39170536 0.39092977\n",
      " 0.38799115 0.38515831 0.39170536 0.39106696 0.38769858 0.38513445]\n",
      "  warnings.warn(\n"
     ]
    },
    {
     "name": "stdout",
     "output_type": "stream",
     "text": [
      "Best parameters found: \n",
      "{'log_reg__C': 1, 'log_reg__penalty': 'l1', 'log_reg__solver': 'saga', 'tfidf__max_features': 1000, 'tfidf__ngram_range': (1, 1)}\n"
     ]
    }
   ],
   "source": [
    "best_log_reg = find_best_estimator(log_reg_pipeline, log_reg_param)"
   ]
  },
  {
   "cell_type": "markdown",
   "id": "5d63450a",
   "metadata": {},
   "source": [
    "Score for Logistic Regresion baseline:"
   ]
  },
  {
   "cell_type": "code",
   "execution_count": 45,
   "id": "352b24b8",
   "metadata": {},
   "outputs": [
    {
     "name": "stdout",
     "output_type": "stream",
     "text": [
      "              precision    recall  f1-score   support\n",
      "\n",
      "           0       0.59      0.50      0.54       823\n",
      "           1       0.60      0.76      0.67      1083\n",
      "           2       0.73      0.20      0.31       229\n",
      "\n",
      "    accuracy                           0.60      2135\n",
      "   macro avg       0.64      0.49      0.51      2135\n",
      "weighted avg       0.61      0.60      0.58      2135\n",
      "\n"
     ]
    }
   ],
   "source": [
    "log_regr_baseline = create_pipeline(LogisticRegression(max_iter=10000), 'log_reg')\n",
    "log_regr_baseline.fit(X_train,y_train)\n",
    "show_best_model_score(log_regr_baseline)"
   ]
  },
  {
   "cell_type": "markdown",
   "id": "689312e5",
   "metadata": {},
   "source": [
    "Score for Logistic Regresion with best parameters:"
   ]
  },
  {
   "cell_type": "code",
   "execution_count": 46,
   "id": "1e7a5719",
   "metadata": {},
   "outputs": [
    {
     "name": "stdout",
     "output_type": "stream",
     "text": [
      "              precision    recall  f1-score   support\n",
      "\n",
      "           0       0.60      0.50      0.54       823\n",
      "           1       0.60      0.75      0.67      1083\n",
      "           2       0.65      0.24      0.35       229\n",
      "\n",
      "    accuracy                           0.60      2135\n",
      "   macro avg       0.62      0.50      0.52      2135\n",
      "weighted avg       0.60      0.60      0.59      2135\n",
      "\n"
     ]
    }
   ],
   "source": [
    "show_best_model_score(best_log_reg)"
   ]
  },
  {
   "cell_type": "markdown",
   "id": "9e030587",
   "metadata": {},
   "source": [
    "Hypertuning for Logistic Regression did not help much."
   ]
  },
  {
   "cell_type": "code",
   "execution_count": 47,
   "id": "0b35638f",
   "metadata": {},
   "outputs": [],
   "source": [
    "# Rest of modeling is ongoing"
   ]
  },
  {
   "cell_type": "code",
   "execution_count": null,
   "id": "ac2f37a3",
   "metadata": {},
   "outputs": [],
   "source": []
  }
 ],
 "metadata": {
  "kernelspec": {
   "display_name": "Python 3 (ipykernel)",
   "language": "python",
   "name": "python3"
  },
  "language_info": {
   "codemirror_mode": {
    "name": "ipython",
    "version": 3
   },
   "file_extension": ".py",
   "mimetype": "text/x-python",
   "name": "python",
   "nbconvert_exporter": "python",
   "pygments_lexer": "ipython3",
   "version": "3.9.13"
  }
 },
 "nbformat": 4,
 "nbformat_minor": 5
}
