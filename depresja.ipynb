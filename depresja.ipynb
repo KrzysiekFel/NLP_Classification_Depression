{
 "cells": [
  {
   "cell_type": "markdown",
   "id": "51309a08",
   "metadata": {},
   "source": [
    "# Detecting signs of depression in Social Media"
   ]
  },
  {
   "cell_type": "markdown",
   "id": "b60b8351",
   "metadata": {},
   "source": [
    "## About Data Set and depression\n",
    "\n",
    "This project is based on data set created by: \n",
    "S Kayalvizhi and D Thenmozhi in 2022. Paper: \"Data set creation and empirical analysis for detecting signs of depression from social media postings.\"\n",
    "Data set was collected from Reddit archives of subreddits groups like: Mental Health, depression, loneliness, stress, anxiety. Data were pre-processed by removing the non-ASCII characters and emoticons to get a clean data set.  The collected postings data were annotated by two domain experts into three labels: “Not depressed, Moderate and Severe\".\n",
    "\n",
    "“Not Depressed\" was annotade when data reflect one of the following mannerism:\n",
    "- If the statements have only one or two lines about irrelevant topics. \n",
    "- If the statements reflect momentary feelings of present situation.\n",
    "- If the statements are about asking questions about any or medication \n",
    "- If the statement is about ask/seek help for friend’s difficulties.\n",
    "\n",
    "“Moderately depressed\" was annotade when data falls under these conditions:\n",
    "- If the statements reflect change in feelings (feeling low for some time and feeling better for some time). \n",
    "- If the statement shows that they aren’t feeling completely immersed in any situations\n",
    "- If the statements show that they have hope for life.\n",
    "\n",
    "“Severely depressed\" was annotade when data have one of the following scenarios:\n",
    "- If the statements express more than one disorder conditions. \n",
    "- If the statements explain about history of suicide attempts.\n",
    "\n",
    "Because deppression can be diagnosed only by clinician expert using questionaries, clinical interwiev, patient observation and other technics, this annotation as depressed and moderately depressed cannot be treated as diagnosis. It is just assumption that user has signs of depression based on his/her declaration. \n",
    "\n",
    "**So what added value could be for such project?**\n",
    "In my opinion value could be sygnificant:\n",
    "Machine learning model could very fast detect sighns which looks like depression and could target such user with some information: for example sending them information about local clinicians, sending information about free help, invite to some neerest places for diagnosis, propose conversation with dedicated chatbot or specialist. \n",
    "Depression is higly corellated with suicidality and it could be far-fetched assumption but it can save someones live ."
   ]
  },
  {
   "cell_type": "markdown",
   "id": "cf490469",
   "metadata": {},
   "source": [
    "Let's start with importing all needed libraries"
   ]
  },
  {
   "cell_type": "code",
   "execution_count": 192,
   "id": "802775f5",
   "metadata": {},
   "outputs": [],
   "source": [
    "import pandas as pd\n",
    "import seaborn as sns\n",
    "from sklearn.model_selection import train_test_split\n",
    "from sklearn.feature_extraction.text import CountVectorizer\n",
    "from sklearn.pipeline import make_pipeline\n",
    "import numpy as np\n",
    "from nltk.tokenize import word_tokenize\n",
    "from nltk.tokenize.casual import casual_tokenize\n",
    "from nltk.stem import PorterStemmer\n",
    "from collections import Counter\n",
    "from nltk.stem import WordNetLemmatizer\n",
    "from nltk.corpus import stopwords\n",
    "\n",
    "from sklearn.linear_model import LogisticRegression\n",
    "from sklearn.tree import DecisionTreeClassifier\n",
    "from sklearn.naive_bayes import MultinomialNB\n",
    "from sklearn.svm import SVC\n",
    "from sklearn.neighbors import KNeighborsClassifier\n",
    "\n",
    "from sklearn.metrics import accuracy_score\n",
    "from sklearn.metrics import precision_score, recall_score, f1_score, classification_report"
   ]
  },
  {
   "cell_type": "markdown",
   "id": "ad0b0950",
   "metadata": {},
   "source": [
    "# 1. Data preparation"
   ]
  },
  {
   "cell_type": "markdown",
   "id": "009dbb82",
   "metadata": {},
   "source": [
    "Data set was stored in 3 files: train, dev and test. Test data did not have labels (because it was competition data to see competitors scores) so train and dev was concatenated to have one data set.\n",
    "Let's see the data."
   ]
  },
  {
   "cell_type": "code",
   "execution_count": 126,
   "id": "8ead1ca9",
   "metadata": {},
   "outputs": [],
   "source": [
    "df1= pd.read_csv('train.tsv', sep='\\t')\n",
    "df2 = pd.read_csv('dev.tsv', sep='\\t') "
   ]
  },
  {
   "cell_type": "code",
   "execution_count": 127,
   "id": "73d73024",
   "metadata": {},
   "outputs": [
    {
     "data": {
      "text/html": [
       "<div>\n",
       "<style scoped>\n",
       "    .dataframe tbody tr th:only-of-type {\n",
       "        vertical-align: middle;\n",
       "    }\n",
       "\n",
       "    .dataframe tbody tr th {\n",
       "        vertical-align: top;\n",
       "    }\n",
       "\n",
       "    .dataframe thead th {\n",
       "        text-align: right;\n",
       "    }\n",
       "</style>\n",
       "<table border=\"1\" class=\"dataframe\">\n",
       "  <thead>\n",
       "    <tr style=\"text-align: right;\">\n",
       "      <th></th>\n",
       "      <th>PID</th>\n",
       "      <th>Text_data</th>\n",
       "      <th>Label</th>\n",
       "    </tr>\n",
       "  </thead>\n",
       "  <tbody>\n",
       "    <tr>\n",
       "      <th>0</th>\n",
       "      <td>train_pid_1</td>\n",
       "      <td>Waiting for my mind to have a breakdown once t...</td>\n",
       "      <td>moderate</td>\n",
       "    </tr>\n",
       "    <tr>\n",
       "      <th>1</th>\n",
       "      <td>train_pid_2</td>\n",
       "      <td>My new years resolution : I'm gonna get my ass...</td>\n",
       "      <td>moderate</td>\n",
       "    </tr>\n",
       "    <tr>\n",
       "      <th>2</th>\n",
       "      <td>train_pid_3</td>\n",
       "      <td>New year : Somone else Feeling like 2020 will ...</td>\n",
       "      <td>moderate</td>\n",
       "    </tr>\n",
       "    <tr>\n",
       "      <th>3</th>\n",
       "      <td>train_pid_4</td>\n",
       "      <td>My story I guess : Hi, Im from Germany and my ...</td>\n",
       "      <td>moderate</td>\n",
       "    </tr>\n",
       "    <tr>\n",
       "      <th>4</th>\n",
       "      <td>train_pid_5</td>\n",
       "      <td>Sat in the dark and cried myself going into th...</td>\n",
       "      <td>moderate</td>\n",
       "    </tr>\n",
       "  </tbody>\n",
       "</table>\n",
       "</div>"
      ],
      "text/plain": [
       "           PID                                          Text_data     Label\n",
       "0  train_pid_1  Waiting for my mind to have a breakdown once t...  moderate\n",
       "1  train_pid_2  My new years resolution : I'm gonna get my ass...  moderate\n",
       "2  train_pid_3  New year : Somone else Feeling like 2020 will ...  moderate\n",
       "3  train_pid_4  My story I guess : Hi, Im from Germany and my ...  moderate\n",
       "4  train_pid_5  Sat in the dark and cried myself going into th...  moderate"
      ]
     },
     "execution_count": 127,
     "metadata": {},
     "output_type": "execute_result"
    }
   ],
   "source": [
    "df1.head()"
   ]
  },
  {
   "cell_type": "code",
   "execution_count": 128,
   "id": "80f7f9ae",
   "metadata": {
    "scrolled": true
   },
   "outputs": [
    {
     "data": {
      "text/html": [
       "<div>\n",
       "<style scoped>\n",
       "    .dataframe tbody tr th:only-of-type {\n",
       "        vertical-align: middle;\n",
       "    }\n",
       "\n",
       "    .dataframe tbody tr th {\n",
       "        vertical-align: top;\n",
       "    }\n",
       "\n",
       "    .dataframe thead th {\n",
       "        text-align: right;\n",
       "    }\n",
       "</style>\n",
       "<table border=\"1\" class=\"dataframe\">\n",
       "  <thead>\n",
       "    <tr style=\"text-align: right;\">\n",
       "      <th></th>\n",
       "      <th>PID</th>\n",
       "      <th>Text data</th>\n",
       "      <th>Label</th>\n",
       "    </tr>\n",
       "  </thead>\n",
       "  <tbody>\n",
       "    <tr>\n",
       "      <th>0</th>\n",
       "      <td>dev_pid_1</td>\n",
       "      <td>I enjoyed today, and I still am! Tomorrows dep...</td>\n",
       "      <td>moderate</td>\n",
       "    </tr>\n",
       "    <tr>\n",
       "      <th>1</th>\n",
       "      <td>dev_pid_2</td>\n",
       "      <td>I sorta tried to kill myself : I had a total b...</td>\n",
       "      <td>moderate</td>\n",
       "    </tr>\n",
       "    <tr>\n",
       "      <th>2</th>\n",
       "      <td>dev_pid_3</td>\n",
       "      <td>Best suicide method? : I like it quick and eas...</td>\n",
       "      <td>moderate</td>\n",
       "    </tr>\n",
       "    <tr>\n",
       "      <th>3</th>\n",
       "      <td>dev_pid_4</td>\n",
       "      <td>a story : I remember the time I'd get on my 3D...</td>\n",
       "      <td>moderate</td>\n",
       "    </tr>\n",
       "    <tr>\n",
       "      <th>4</th>\n",
       "      <td>dev_pid_5</td>\n",
       "      <td>The world only cares about beautiful people : ...</td>\n",
       "      <td>moderate</td>\n",
       "    </tr>\n",
       "  </tbody>\n",
       "</table>\n",
       "</div>"
      ],
      "text/plain": [
       "         PID                                          Text data     Label\n",
       "0  dev_pid_1  I enjoyed today, and I still am! Tomorrows dep...  moderate\n",
       "1  dev_pid_2  I sorta tried to kill myself : I had a total b...  moderate\n",
       "2  dev_pid_3  Best suicide method? : I like it quick and eas...  moderate\n",
       "3  dev_pid_4  a story : I remember the time I'd get on my 3D...  moderate\n",
       "4  dev_pid_5  The world only cares about beautiful people : ...  moderate"
      ]
     },
     "execution_count": 128,
     "metadata": {},
     "output_type": "execute_result"
    }
   ],
   "source": [
    "df2.head()"
   ]
  },
  {
   "cell_type": "markdown",
   "id": "c4ef1717",
   "metadata": {},
   "source": [
    "We have different labels name and one column (PID) is not necessary."
   ]
  },
  {
   "cell_type": "code",
   "execution_count": 129,
   "id": "15296421",
   "metadata": {},
   "outputs": [
    {
     "data": {
      "text/html": [
       "<div>\n",
       "<style scoped>\n",
       "    .dataframe tbody tr th:only-of-type {\n",
       "        vertical-align: middle;\n",
       "    }\n",
       "\n",
       "    .dataframe tbody tr th {\n",
       "        vertical-align: top;\n",
       "    }\n",
       "\n",
       "    .dataframe thead th {\n",
       "        text-align: right;\n",
       "    }\n",
       "</style>\n",
       "<table border=\"1\" class=\"dataframe\">\n",
       "  <thead>\n",
       "    <tr style=\"text-align: right;\">\n",
       "      <th></th>\n",
       "      <th>Text_data</th>\n",
       "      <th>Label</th>\n",
       "    </tr>\n",
       "  </thead>\n",
       "  <tbody>\n",
       "    <tr>\n",
       "      <th>0</th>\n",
       "      <td>Waiting for my mind to have a breakdown once t...</td>\n",
       "      <td>moderate</td>\n",
       "    </tr>\n",
       "    <tr>\n",
       "      <th>1</th>\n",
       "      <td>My new years resolution : I'm gonna get my ass...</td>\n",
       "      <td>moderate</td>\n",
       "    </tr>\n",
       "    <tr>\n",
       "      <th>2</th>\n",
       "      <td>New year : Somone else Feeling like 2020 will ...</td>\n",
       "      <td>moderate</td>\n",
       "    </tr>\n",
       "    <tr>\n",
       "      <th>3</th>\n",
       "      <td>My story I guess : Hi, Im from Germany and my ...</td>\n",
       "      <td>moderate</td>\n",
       "    </tr>\n",
       "    <tr>\n",
       "      <th>4</th>\n",
       "      <td>Sat in the dark and cried myself going into th...</td>\n",
       "      <td>moderate</td>\n",
       "    </tr>\n",
       "  </tbody>\n",
       "</table>\n",
       "</div>"
      ],
      "text/plain": [
       "                                           Text_data     Label\n",
       "0  Waiting for my mind to have a breakdown once t...  moderate\n",
       "1  My new years resolution : I'm gonna get my ass...  moderate\n",
       "2  New year : Somone else Feeling like 2020 will ...  moderate\n",
       "3  My story I guess : Hi, Im from Germany and my ...  moderate\n",
       "4  Sat in the dark and cried myself going into th...  moderate"
      ]
     },
     "execution_count": 129,
     "metadata": {},
     "output_type": "execute_result"
    }
   ],
   "source": [
    "df2.rename({'Text data': 'Text_data'}, inplace=True, axis='columns')\n",
    "df = pd.concat([df1, df2], ignore_index=True)\n",
    "df.drop([\"PID\"], axis=1, inplace=True)\n",
    "df.head()"
   ]
  },
  {
   "cell_type": "code",
   "execution_count": 130,
   "id": "b68b29bb",
   "metadata": {},
   "outputs": [
    {
     "data": {
      "text/plain": [
       "(13387, 2)"
      ]
     },
     "execution_count": 130,
     "metadata": {},
     "output_type": "execute_result"
    }
   ],
   "source": [
    "df.shape"
   ]
  },
  {
   "cell_type": "code",
   "execution_count": 131,
   "id": "4a117a9b",
   "metadata": {},
   "outputs": [
    {
     "name": "stdout",
     "output_type": "stream",
     "text": [
      "<class 'pandas.core.frame.DataFrame'>\n",
      "RangeIndex: 13387 entries, 0 to 13386\n",
      "Data columns (total 2 columns):\n",
      " #   Column     Non-Null Count  Dtype \n",
      "---  ------     --------------  ----- \n",
      " 0   Text_data  13387 non-null  object\n",
      " 1   Label      13387 non-null  object\n",
      "dtypes: object(2)\n",
      "memory usage: 209.3+ KB\n"
     ]
    }
   ],
   "source": [
    "df.info()"
   ]
  },
  {
   "cell_type": "markdown",
   "id": "7baf4b71",
   "metadata": {},
   "source": [
    "We can see we have 13387 rows and 2 columns. All data are in string format (object dtype). \n",
    "Let's see if we have duplicates."
   ]
  },
  {
   "cell_type": "code",
   "execution_count": 135,
   "id": "98dd42ec",
   "metadata": {},
   "outputs": [],
   "source": [
    "df.drop_duplicates(inplace=True, ignore_index=True)"
   ]
  },
  {
   "cell_type": "code",
   "execution_count": 136,
   "id": "2d6a5ca2",
   "metadata": {},
   "outputs": [
    {
     "data": {
      "text/plain": [
       "(7115, 2)"
      ]
     },
     "execution_count": 136,
     "metadata": {},
     "output_type": "execute_result"
    }
   ],
   "source": [
    "df.shape"
   ]
  },
  {
   "cell_type": "markdown",
   "id": "3361de71",
   "metadata": {},
   "source": [
    "There are a lot of duplcates, all were deleted.\n",
    "Let's see how target is distributed in data"
   ]
  },
  {
   "cell_type": "code",
   "execution_count": 138,
   "id": "599b64e6",
   "metadata": {},
   "outputs": [
    {
     "data": {
      "text/plain": [
       "moderate          3611\n",
       "not depression    2742\n",
       "severe             762\n",
       "Name: Label, dtype: int64"
      ]
     },
     "execution_count": 138,
     "metadata": {},
     "output_type": "execute_result"
    }
   ],
   "source": [
    "df['Label'].value_counts()"
   ]
  },
  {
   "cell_type": "code",
   "execution_count": 139,
   "id": "ce8fe806",
   "metadata": {},
   "outputs": [
    {
     "data": {
      "text/plain": [
       "<AxesSubplot:>"
      ]
     },
     "execution_count": 139,
     "metadata": {},
     "output_type": "execute_result"
    },
    {
     "data": {
      "image/png": "[encoded data removed]",
      "text/plain": [
       "<Figure size 432x288 with 1 Axes>"
      ]
     },
     "metadata": {
      "needs_background": "light"
     },
     "output_type": "display_data"
    }
   ],
   "source": [
    "sns.barplot(x=df['Label'].value_counts().index, y=df['Label'].value_counts().values)"
   ]
  },
  {
   "cell_type": "markdown",
   "id": "29a9bd57",
   "metadata": {},
   "source": [
    "Most rows are labeled as moderate depression(3611), on second place we have not depresion (2746) and the fewest: severe depression (762).\n",
    "For this classification case we need to have labels 0, 1 and 2, because for some classifiers it is mandatory. To simulate intensivity of depression target will be changed as below:"
   ]
  },
  {
   "cell_type": "code",
   "execution_count": 143,
   "id": "5a29e60c",
   "metadata": {},
   "outputs": [],
   "source": [
    "df[\"Label\"].replace({\"not depression\": 0, \"moderate\": 1, \"severe\": 2}, inplace=True)"
   ]
  },
  {
   "cell_type": "code",
   "execution_count": 144,
   "id": "5025d554",
   "metadata": {},
   "outputs": [],
   "source": [
    "X = df['Text_data']\n",
    "y = df['Label']\n",
    "X_train, X_test, y_train, y_test = train_test_split(X, y, test_size=0.3, random_state=123, stratify = y)"
   ]
  },
  {
   "cell_type": "markdown",
   "id": "89348090",
   "metadata": {},
   "source": [
    "# 2. Data exploration"
   ]
  },
  {
   "cell_type": "markdown",
   "id": "fd7b829f",
   "metadata": {},
   "source": [
    "Let's check what words are mostly used for severe and moderately depressed users. There are some tokenizers and we will choose casual tokenizer which is dedicated for social media. We will also add lematizaion (it will find base of the word, not removing/replacing word suffixes as in stemming) and delete stop words. "
   ]
  },
  {
   "cell_type": "code",
   "execution_count": 198,
   "id": "bc146b2e",
   "metadata": {},
   "outputs": [],
   "source": [
    "text_data_severe = df[df[\"Label\"]==2][\"Text_data\"]\n",
    "text_data_moderate = df[df[\"Label\"]==1][\"Text_data\"]"
   ]
  },
  {
   "cell_type": "code",
   "execution_count": 202,
   "id": "9344137a",
   "metadata": {},
   "outputs": [
    {
     "data": {
      "text/plain": [
       "599     Falling in love with depression and OCD. Anoth...\n",
       "608     I’m so empty : I wake up to the malevolent gla...\n",
       "609     I can't kill myself because of my parents : I ...\n",
       "616     Feeling numb. : Okay this is my first post, ap...\n",
       "639     I can't do this anymore. : I have several ment...\n",
       "                              ...                        \n",
       "7110    Aren’t we all just tired? : I’ve been depresse...\n",
       "7111    NEED HELP COPING : I had my life pretty much f...\n",
       "7112    Qutting Zoloft Cold Turkey : I was on 75 mg se...\n",
       "7113    Crying : I’m coming off my antidepressants and...\n",
       "7114    Seeking for advice on how to overcome and deal...\n",
       "Name: Text_data, Length: 762, dtype: object"
      ]
     },
     "execution_count": 202,
     "metadata": {},
     "output_type": "execute_result"
    }
   ],
   "source": [
    "text_data_severe"
   ]
  },
  {
   "cell_type": "code",
   "execution_count": 203,
   "id": "4e1cca56",
   "metadata": {
    "scrolled": true
   },
   "outputs": [
    {
     "data": {
      "text/plain": [
       "0       Waiting for my mind to have a breakdown once t...\n",
       "1       My new years resolution : I'm gonna get my ass...\n",
       "2       New year : Somone else Feeling like 2020 will ...\n",
       "3       My story I guess : Hi, Im from Germany and my ...\n",
       "4       Sat in the dark and cried myself going into th...\n",
       "                              ...                        \n",
       "4981    Lockdown has made so depressed : Help me, I fe...\n",
       "4982    Am i just being dramatic? Do i really feel thi...\n",
       "4983    Just another day of dealing with Depression. J...\n",
       "4984    I just want to vent a bit, nothing special ple...\n",
       "4985    Shit fucking day : Having the shittest day, do...\n",
       "Name: Text_data, Length: 3611, dtype: object"
      ]
     },
     "execution_count": 203,
     "metadata": {},
     "output_type": "execute_result"
    }
   ],
   "source": [
    "text_data_moderate"
   ]
  },
  {
   "cell_type": "markdown",
   "id": "b8a5d896",
   "metadata": {},
   "source": [
    "I will prepare function for finding top 20 (defould value) most common words from all type users."
   ]
  },
  {
   "cell_type": "code",
   "execution_count": 235,
   "id": "75959a52",
   "metadata": {},
   "outputs": [],
   "source": [
    "stop_words = stopwords.words('english') \n",
    "ps = PorterStemmer()\n",
    "wl = WordNetLemmatizer()\n",
    "\n",
    "def most_common_words(data, words_number=20):\n",
    "    '''Returns 20 (defoult value) most common words from data using stop words, casual tokenizer and lematizer'''\n",
    "    \n",
    "    casual_tekenizer_lists = [casual_tokenize(post) for post in data]\n",
    "    casual_tekenizer = list(np.concatenate(casual_tekenizer_lists).flat)\n",
    "    without_stop_words = [word for word in casual_tekenizer if word.lower() not in stop_words and word.isalpha()]\n",
    "    after_lem = [wl.lemmatize(word) for word in without_stop_words]\n",
    "    return Counter(after_lem).most_common(words_number)"
   ]
  },
  {
   "cell_type": "markdown",
   "id": "72d761f2",
   "metadata": {},
   "source": [
    "Let's check what are mostly used words in both group with severe and moderate depression."
   ]
  },
  {
   "cell_type": "code",
   "execution_count": 238,
   "id": "fa8f3f6d",
   "metadata": {},
   "outputs": [
    {
     "name": "stdout",
     "output_type": "stream",
     "text": [
      "[('like', 1213), ('feel', 1200), ('want', 1073), ('get', 832), ('know', 820), ('time', 736), ('life', 704), ('year', 699), ('depression', 682), ('day', 622), ('even', 565), ('really', 555), ('thing', 526), ('friend', 518), ('go', 512), ('people', 503), ('would', 474), ('help', 443), ('one', 440), ('die', 433)]\n"
     ]
    }
   ],
   "source": [
    "top_severe_words = most_common_words(text_data_severe)\n",
    "print(top_severe_words)"
   ]
  },
  {
   "cell_type": "code",
   "execution_count": 239,
   "id": "d1f3cd9a",
   "metadata": {
    "scrolled": true
   },
   "outputs": [
    {
     "name": "stdout",
     "output_type": "stream",
     "text": [
      "[('like', 4745), ('feel', 4719), ('know', 3190), ('want', 3122), ('life', 2802), ('get', 2794), ('time', 2695), ('friend', 2227), ('even', 2200), ('year', 2160), ('thing', 2029), ('really', 2017), ('people', 2009), ('day', 1845), ('one', 1837), ('go', 1682), ('would', 1608), ('make', 1555), ('depression', 1516), ('think', 1492)]\n"
     ]
    }
   ],
   "source": [
    "top_moderate_words = most_common_words(text_data_moderate)\n",
    "print(top_moderate_words)"
   ]
  },
  {
   "cell_type": "markdown",
   "id": "90354d41",
   "metadata": {},
   "source": [
    "We can check visually in both groups how frequency of each word relates to the others."
   ]
  },
  {
   "cell_type": "code",
   "execution_count": 247,
   "id": "a8ca9a17",
   "metadata": {},
   "outputs": [
    {
     "data": {
      "image/png": "[encoded data removed]",
      "text/plain": [
       "<Figure size 1080x576 with 1 Axes>"
      ]
     },
     "metadata": {
      "needs_background": "light"
     },
     "output_type": "display_data"
    }
   ],
   "source": [
    "x_list_s = [x[0] for x in top_severe_words]\n",
    "y_list_s = [x[1] for x in top_severe_words]\n",
    "\n",
    "plt.figure(figsize=(15, 8))\n",
    "plt.title(\"Top 20 words for severe depression\", fontsize=15)\n",
    "plt.xlabel(\"Word\", fontsize=13)\n",
    "plt.ylabel(\"Total amount in all posts\", fontsize=13)\n",
    "plt.bar(x=x_list_s, height=y_list_s)\n",
    "plt.show()"
   ]
  },
  {
   "cell_type": "code",
   "execution_count": 248,
   "id": "54d0dbc3",
   "metadata": {
    "scrolled": true
   },
   "outputs": [
    {
     "data": {
      "image/png": "[encoded data removed]",
      "text/plain": [
       "<Figure size 1080x576 with 1 Axes>"
      ]
     },
     "metadata": {
      "needs_background": "light"
     },
     "output_type": "display_data"
    }
   ],
   "source": [
    "x_list_m = [x[0] for x in top_moderate_words]\n",
    "y_list_m = [x[1] for x in top_moderate_words]\n",
    "\n",
    "plt.figure(figsize=(15, 8))\n",
    "plt.title(\"Top 20 words for moderate depression\", fontsize=15)\n",
    "plt.xlabel(\"Word\", fontsize=13)\n",
    "plt.ylabel(\"Total amount in all posts\", fontsize=13)\n",
    "plt.bar(x=x_list_m, height=y_list_m)\n",
    "plt.show() "
   ]
  },
  {
   "cell_type": "markdown",
   "id": "5b80a843",
   "metadata": {},
   "source": [
    "We can see that two most popular words for both group are the same: like and feel, so it could represent writing in reddit about person emotions and liking/disliking. We can also see that these two words stand out quantitatively from the rest.\n",
    "Let's check now what words are used in both group and what in each."
   ]
  },
  {
   "cell_type": "code",
   "execution_count": 249,
   "id": "c7374395",
   "metadata": {},
   "outputs": [
    {
     "name": "stdout",
     "output_type": "stream",
     "text": [
      "List of top 20 words which are present in both group moderate and severe depression:\n",
      "['like', 'feel', 'want', 'get', 'know', 'time', 'life', 'year', 'depression', 'day', 'even', 'really', 'thing', 'friend', 'go', 'people', 'would', 'one']\n"
     ]
    }
   ],
   "source": [
    "words_in_both_group = [x for x in x_list_s if x in x_list_m]\n",
    "print(f\"List of top 20 words which are present in both group moderate and severe depression:\\n{words_in_both_group}\")"
   ]
  },
  {
   "cell_type": "code",
   "execution_count": 251,
   "id": "8ed2146b",
   "metadata": {},
   "outputs": [
    {
     "name": "stdout",
     "output_type": "stream",
     "text": [
      "List of top 20 words which are present only in severe group:\n",
      "['help', 'die']\n"
     ]
    }
   ],
   "source": [
    "words_only_in_severe = [x for x in x_list_s if x not in x_list_m]\n",
    "print(f\"List of top 20 words which are present only in severe group:\\n{words_only_in_severe}\")"
   ]
  },
  {
   "cell_type": "code",
   "execution_count": 252,
   "id": "b8182940",
   "metadata": {},
   "outputs": [
    {
     "name": "stdout",
     "output_type": "stream",
     "text": [
      "List of top 20 words which are present only in moderate group:\n",
      "['make', 'think']\n"
     ]
    }
   ],
   "source": [
    "words_only_in_severe = [x for x in x_list_m if x not in x_list_s]\n",
    "print(f\"List of top 20 words which are present only in moderate group:\\n{words_only_in_severe}\")"
   ]
  },
  {
   "cell_type": "markdown",
   "id": "40032d6a",
   "metadata": {},
   "source": [
    "This is very interesting: only people with severe depression use word help and die. Let's check how it will looks like for top 50 words."
   ]
  },
  {
   "cell_type": "code",
   "execution_count": 253,
   "id": "9eef75f2",
   "metadata": {},
   "outputs": [
    {
     "name": "stdout",
     "output_type": "stream",
     "text": [
      "List of top 50 words which are present only in severe group:\n",
      "['die', 'anxiety', 'month', 'since', 'bad', 'started', 'week', 'take', 'need']\n"
     ]
    }
   ],
   "source": [
    "top50_severe_words = most_common_words(text_data_severe, words_number=50)\n",
    "top50_moderate_words = most_common_words(text_data_moderate, words_number=50)\n",
    "\n",
    "x_list_s50 = [x[0] for x in top50_severe_words]\n",
    "x_list_m50 = [x[0] for x in top50_moderate_words]\n",
    "\n",
    "words_only_in_severe50 = [x for x in x_list_s50 if x not in x_list_m50]\n",
    "print(f\"List of top 50 words which are present only in severe group:\\n{words_only_in_severe50}\")"
   ]
  },
  {
   "cell_type": "markdown",
   "id": "17b84570",
   "metadata": {},
   "source": [
    "Now it is more interesint. It could looks like people with severe depression are writing on reddit about death, anxiety and maybe when it could started (words: since and started)."
   ]
  },
  {
   "cell_type": "code",
   "execution_count": null,
   "id": "d7504bdb",
   "metadata": {},
   "outputs": [],
   "source": []
  },
  {
   "cell_type": "code",
   "execution_count": null,
   "id": "3f39d88e",
   "metadata": {},
   "outputs": [],
   "source": []
  },
  {
   "cell_type": "code",
   "execution_count": null,
   "id": "4aef7680",
   "metadata": {},
   "outputs": [],
   "source": []
  },
  {
   "cell_type": "code",
   "execution_count": null,
   "id": "1ede3551",
   "metadata": {},
   "outputs": [],
   "source": []
  },
  {
   "cell_type": "code",
   "execution_count": null,
   "id": "73125f18",
   "metadata": {},
   "outputs": [],
   "source": []
  },
  {
   "cell_type": "code",
   "execution_count": null,
   "id": "988e213b",
   "metadata": {},
   "outputs": [],
   "source": []
  },
  {
   "cell_type": "code",
   "execution_count": null,
   "id": "cfea6afa",
   "metadata": {},
   "outputs": [],
   "source": []
  },
  {
   "cell_type": "code",
   "execution_count": 74,
   "id": "f92928c6",
   "metadata": {},
   "outputs": [],
   "source": [
    "vectorizer = CountVectorizer(max_features=10000)\n",
    "X = vectorizer.fit_transform(df['Text_data'])\n",
    "y = df['Label']"
   ]
  },
  {
   "cell_type": "code",
   "execution_count": 75,
   "id": "2ea76d63",
   "metadata": {},
   "outputs": [],
   "source": [
    "X_train, X_test, y_train, y_test = train_test_split(X, y, test_size=0.3, random_state=123)"
   ]
  },
  {
   "cell_type": "code",
   "execution_count": 79,
   "id": "05ba67e4",
   "metadata": {},
   "outputs": [
    {
     "name": "stderr",
     "output_type": "stream",
     "text": [
      "/opt/homebrew/Cellar/jupyterlab/3.3.2/libexec/lib/python3.9/site-packages/sklearn/linear_model/_logistic.py:444: ConvergenceWarning: lbfgs failed to converge (status=1):\n",
      "STOP: TOTAL NO. of ITERATIONS REACHED LIMIT.\n",
      "\n",
      "Increase the number of iterations (max_iter) or scale the data as shown in:\n",
      "    https://scikit-learn.org/stable/modules/preprocessing.html\n",
      "Please also refer to the documentation for alternative solver options:\n",
      "    https://scikit-learn.org/stable/modules/linear_model.html#logistic-regression\n",
      "  n_iter_i = _check_optimize_result(\n"
     ]
    },
    {
     "name": "stdout",
     "output_type": "stream",
     "text": [
      "LogisticRegression() model perform with accuracy score: 0.8909295352323838\n",
      "DecisionTreeClassifier() model perform with accuracy score: 0.8845577211394303\n",
      "MultinomialNB() model perform with accuracy score: 0.8354572713643178\n",
      "SVC() model perform with accuracy score: 0.7747376311844077\n",
      "KNeighborsClassifier() model perform with accuracy score: 0.8586956521739131\n"
     ]
    }
   ],
   "source": [
    "models = [LogisticRegression(), DecisionTreeClassifier(), MultinomialNB(), SVC(), KNeighborsClassifier()]\n",
    "for model in models:\n",
    "    model.fit(X_train, y_train)\n",
    "    accuracy = accuracy_score(y_test, model.predict(X_test))\n",
    "    print(f\"{model} model perform with accuracy score: {accuracy}\")"
   ]
  },
  {
   "cell_type": "code",
   "execution_count": null,
   "id": "7c2cb639",
   "metadata": {},
   "outputs": [],
   "source": []
  },
  {
   "cell_type": "code",
   "execution_count": null,
   "id": "213a0b31",
   "metadata": {},
   "outputs": [],
   "source": []
  },
  {
   "cell_type": "code",
   "execution_count": null,
   "id": "0acd1cd4",
   "metadata": {},
   "outputs": [],
   "source": []
  }
 ],
 "metadata": {
  "kernelspec": {
   "display_name": "Python 3 (ipykernel)",
   "language": "python",
   "name": "python3"
  },
  "language_info": {
   "codemirror_mode": {
    "name": "ipython",
    "version": 3
   },
   "file_extension": ".py",
   "mimetype": "text/x-python",
   "name": "python",
   "nbconvert_exporter": "python",
   "pygments_lexer": "ipython3",
   "version": "3.9.13"
  }
 },
 "nbformat": 4,
 "nbformat_minor": 5
}
